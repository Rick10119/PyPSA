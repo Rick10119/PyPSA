{
 "cells": [
  {
   "cell_type": "markdown",
   "metadata": {},
   "source": [
    "# Single Node Capacity Expansion Planning"
   ]
  },
  {
   "cell_type": "markdown",
   "metadata": {
    "tags": []
   },
   "source": [
    "## From electricity market modelling to capacity expansion planning\n",
    "\n",
    "Review the problem formulation of the electricity market model. Below you can find an adapted version\n",
    "where the capacity limits have been promoted to **decision variables** with corresponding terms\n",
    "in the *objective function* and *new constraints for their expansion limits* (e.g. wind and solar potentials). This is known as **capacity expansion problem**.\n",
    "\n",
    "$$\n",
    "\\begin{equation*}\n",
    "    \\min_{g,e,f,G,E,F} \\quad \\sum_{i,s,t} w_t o_{s} g_{i,s,t} + \\sum_{i,s} c_sG_{i,s}  + c_{r,\\text{dis/charge}}G_{i,r, \\text{dis/charge}} +   c_{r}E_{i,r}  + c_\\ell F_{\\ell}\n",
    "  \\end{equation*}\n",
    "$$\n",
    "such that\n",
    "$$\n",
    "  \\begin{align*}\n",
    "    d_{i,t} &= \\sum_s g_{i,s,t}  - \\sum_\\ell K_{i\\ell} f_{\\ell,t}   & \\text{energy balance} \\\\\n",
    "    0 &\\leq g_{i,s,t} \\leq \\hat{g}_{i,s,t} G_{i,s} & \\text{generator limits}\\\\\n",
    "    0 & \\leq g_{i,r,t,\\text{dis/charge}} \\leq G_{i,r,\\text{dis/charge}}& \\text{storage dis/charge limits} \\\\\n",
    "    0 & \\leq e_{i,r,t} \\leq E_{r} & \\text{storage energy limits} \\\\ \n",
    "    e_{i,r,t} &= \\eta^0_{i,r,t} e_{i,r,t-1} + \\eta^1_{r}g_{i,r,t,\\text{charge}} -  \\frac{1}{\\eta^2_{r}} g_{i,r,t,\\text{discharge}} & \\text{storage consistency} \\\\\n",
    "    -F_\\ell &\\leq f_{\\ell,t} \\leq F_\\ell  & \\text{line limits} \\\\\n",
    "    0 &= \\sum_\\ell C_{\\ell c} x_\\ell f_{\\ell,t} & \\text{KVL} \\\\\n",
    "        \\underline{G}_{i,s} & \\leq G_{i,s} \\leq \\overline{G}_{i,s} & \\text{generator capacity expansion limits} \\\\\n",
    "    \\underline{G}_{i,r, \\text{dis/charge}} & \\leq G_{i,r, \\text{dis/charge}} \\leq \\overline{G}_{i,r, \\text{dis/charge}} & \\text{storage power capacity expansion limits} \\\\\n",
    "    \\underline{E}_{i,r} & \\leq E_{i,r} \\leq \\overline{E}_{i,r} & \\text{storage energy expansion limits} \\\\\n",
    "    \\underline{F}_{\\ell} & \\leq F_{\\ell} \\leq \\overline{F}_{\\ell} & \\text{line capacity expansion limits}\n",
    "  \\end{align*}\n",
    "$$\n",
    "\n",
    "**New decision variables for capacity expansion planning:**\n",
    "\n",
    "- $G_{i,s}$ is the generator capacity at bus $i$, technology $s$,\n",
    "- $F_{\\ell}$ is the transmission capacity of line $\\ell$,\n",
    "- $G_{i,r,\\text{dis-/charge}}$ denotes the charge and discharge capacities of storage unit $r$ at bus $i$,\n",
    "- $E_{i,r}$ is the energy capacity of storage $r$ at bus $i$ and time step $t$.\n",
    "\n",
    "**New parameters for capacity expansion planning:**\n",
    "\n",
    "- $c_{\\star}$ is the capital cost of technology $\\star$ at bus $i$\n",
    "- $w_t$ is the weighting of time step $t$ (e.g. number of hours it represents)\n",
    "- $\\underline{G}_\\star, \\underline{F}_\\star, \\underline{E}_\\star$ are the minimum capacities per technology and location/connection.\n",
    "- $\\underline{G}_\\star, \\underline{F}_\\star, \\underline{E}_\\star$ are the maximum capacities per technology and location.\n",
    "\n",
    ":::{note}\n",
    "For a full reference to the optimisation problem description, see https://pypsa.readthedocs.io/en/latest/optimal_power_flow.html\n",
    ":::\n"
   ]
  },
  {
   "cell_type": "markdown",
   "metadata": {
    "tags": []
   },
   "source": [
    "First things first! We need a few packages for this tutorial:"
   ]
  },
  {
   "cell_type": "code",
   "execution_count": 6,
   "metadata": {
    "ExecuteTime": {
     "end_time": "2024-05-24T08:46:20.357375Z",
     "start_time": "2024-05-24T08:46:17.846410Z"
    },
    "jp-MarkdownHeadingCollapsed": true,
    "tags": []
   },
   "outputs": [],
   "source": [
    "import matplotlib.pyplot as plt\n",
    "import pandas as pd\n",
    "\n",
    "import pypsa\n",
    "\n",
    "plt.style.use(\"bmh\")"
   ]
  },
  {
   "cell_type": "markdown",
   "metadata": {
    "tags": []
   },
   "source": [
    "## Prerequisites: handling technology data and costs"
   ]
  },
  {
   "cell_type": "markdown",
   "metadata": {},
   "source": [
    "We maintain a database (https://github.com/PyPSA/technology-data) which collects assumptions and projections for energy system technologies (such as costs, efficiencies, lifetimes, etc.) for given years, which we can load into a `pandas.DataFrame`. This requires some pre-processing to load (e.g. converting units, setting defaults, re-arranging dimensions):"
   ]
  },
  {
   "cell_type": "code",
   "execution_count": 7,
   "metadata": {
    "ExecuteTime": {
     "end_time": "2024-05-24T07:37:30.201456Z",
     "start_time": "2024-05-24T07:37:29.732485Z"
    }
   },
   "outputs": [],
   "source": [
    "year = 2030\n",
    "costs = pd.read_csv(f\"../../data/costs/costs_{year}.csv\", index_col=[0, 1])"
   ]
  },
  {
   "cell_type": "code",
   "execution_count": 8,
   "metadata": {
    "ExecuteTime": {
     "end_time": "2024-05-24T07:37:30.218478Z",
     "start_time": "2024-05-24T07:37:30.202899Z"
    }
   },
   "outputs": [],
   "source": [
    "costs.loc[costs.unit.str.contains(\"/kW\"), \"value\"] *= 1e3\n",
    "costs.unit = costs.unit.str.replace(\"/kW\", \"/MW\")\n",
    "\n",
    "defaults = {\n",
    "    \"FOM\": 0,\n",
    "    \"VOM\": 0,\n",
    "    \"efficiency\": 1,\n",
    "    \"fuel\": 0,\n",
    "    \"investment\": 0,\n",
    "    \"lifetime\": 25,\n",
    "    \"CO2 intensity\": 0,\n",
    "    \"discount rate\": 0.07,\n",
    "}\n",
    "costs = costs.value.unstack().fillna(defaults)\n",
    "\n",
    "costs.at[\"OCGT\", \"fuel\"] = costs.at[\"gas\", \"fuel\"]\n",
    "costs.at[\"CCGT\", \"fuel\"] = costs.at[\"gas\", \"fuel\"]\n",
    "costs.at[\"OCGT\", \"CO2 intensity\"] = costs.at[\"gas\", \"CO2 intensity\"]\n",
    "costs.at[\"CCGT\", \"CO2 intensity\"] = costs.at[\"gas\", \"CO2 intensity\"]"
   ]
  },
  {
   "cell_type": "markdown",
   "metadata": {},
   "source": [
    "Let's also write a small utility function that calculates the **annuity** to annualise investment costs. The formula is\n",
    "\n",
    "$$\n",
    "a(r, n) = \\frac{r}{1-(1+r)^{-n}}\n",
    "$$\n",
    "where $r$ is the discount rate and $n$ is the lifetime."
   ]
  },
  {
   "cell_type": "code",
   "execution_count": 9,
   "metadata": {
    "ExecuteTime": {
     "end_time": "2024-05-24T07:37:30.222911Z",
     "start_time": "2024-05-24T07:37:30.220818Z"
    }
   },
   "outputs": [],
   "source": [
    "def annuity(r, n):\n",
    "    return r / (1.0 - 1.0 / (1.0 + r) ** n)"
   ]
  },
  {
   "cell_type": "code",
   "execution_count": 10,
   "metadata": {
    "ExecuteTime": {
     "end_time": "2024-05-24T07:37:30.228332Z",
     "start_time": "2024-05-24T07:37:30.223938Z"
    }
   },
   "outputs": [
    {
     "data": {
      "text/plain": [
       "0.09439292574325567"
      ]
     },
     "execution_count": 10,
     "metadata": {},
     "output_type": "execute_result"
    }
   ],
   "source": [
    "annuity(0.07, 20)"
   ]
  },
  {
   "cell_type": "markdown",
   "metadata": {},
   "source": [
    "Based on this, we can calculate the short-term marginal generation costs (STMGC, €/MWh):"
   ]
  },
  {
   "cell_type": "code",
   "execution_count": 11,
   "metadata": {
    "ExecuteTime": {
     "end_time": "2024-05-24T07:37:30.231948Z",
     "start_time": "2024-05-24T07:37:30.229239Z"
    }
   },
   "outputs": [],
   "source": [
    "costs[\"marginal_cost\"] = costs[\"VOM\"] + costs[\"fuel\"] / costs[\"efficiency\"]"
   ]
  },
  {
   "cell_type": "markdown",
   "metadata": {},
   "source": [
    "and the annualised investment costs (`capital_cost` in PyPSA terms, €/MW/a):"
   ]
  },
  {
   "cell_type": "code",
   "execution_count": 12,
   "metadata": {
    "ExecuteTime": {
     "end_time": "2024-05-24T07:37:30.237265Z",
     "start_time": "2024-05-24T07:37:30.232914Z"
    }
   },
   "outputs": [],
   "source": [
    "annuity = costs.apply(lambda x: annuity(x[\"discount rate\"], x[\"lifetime\"]), axis=1)"
   ]
  },
  {
   "cell_type": "code",
   "execution_count": 13,
   "metadata": {
    "ExecuteTime": {
     "end_time": "2024-05-24T07:37:30.240224Z",
     "start_time": "2024-05-24T07:37:30.238032Z"
    }
   },
   "outputs": [],
   "source": [
    "costs[\"capital_cost\"] = (annuity + costs[\"FOM\"] / 100) * costs[\"investment\"]"
   ]
  },
  {
   "cell_type": "markdown",
   "metadata": {},
   "source": [
    "## Loading time series data"
   ]
  },
  {
   "cell_type": "markdown",
   "metadata": {},
   "source": [
    "We are also going to need some time series for wind, solar and load. For now, we are going to recycle the time series we used at the beginning of the course. They are given for Germany in the year 2015."
   ]
  },
  {
   "cell_type": "code",
   "execution_count": 14,
   "metadata": {
    "ExecuteTime": {
     "end_time": "2024-05-24T07:37:33.705510Z",
     "start_time": "2024-05-24T07:37:30.240941Z"
    }
   },
   "outputs": [],
   "source": [
    "url = (\n",
    "    \"https://tubcloud.tu-berlin.de/s/pKttFadrbTKSJKF/download/time-series-lecture-2.csv\"\n",
    ")\n",
    "ts = pd.read_csv(url, index_col=0, parse_dates=True)"
   ]
  },
  {
   "cell_type": "code",
   "execution_count": 15,
   "metadata": {
    "ExecuteTime": {
     "end_time": "2024-05-24T07:37:33.730588Z",
     "start_time": "2024-05-24T07:37:33.709003Z"
    }
   },
   "outputs": [],
   "source": [
    "ts.head(3)\n",
    "\n",
    "# 计算总负荷load\n",
    "sum(ts.load)\n",
    "\n",
    "# 每小时都扣除5.5Gw，这是默认之前平均用电\n",
    "ts.load -= 5.5\n",
    "\n",
    "# 增加一列电解铝需求(t)\n",
    "ts['aluminum'] = 5.5\n"
   ]
  },
  {
   "cell_type": "markdown",
   "metadata": {},
   "source": [
    "Let's convert the load time series from GW to MW, the base unit of PyPSA:"
   ]
  },
  {
   "cell_type": "code",
   "execution_count": 16,
   "metadata": {
    "ExecuteTime": {
     "end_time": "2024-05-24T07:37:33.734128Z",
     "start_time": "2024-05-24T07:37:33.731197Z"
    }
   },
   "outputs": [
    {
     "data": {
      "text/plain": [
       "431316047.0"
      ]
     },
     "execution_count": 16,
     "metadata": {},
     "output_type": "execute_result"
    }
   ],
   "source": [
    "ts.load *= 1e3\n",
    "\n",
    "ts.aluminum *= 1e3\n",
    "\n",
    "# 计算总负荷load\n",
    "sum(ts.load)"
   ]
  },
  {
   "cell_type": "markdown",
   "metadata": {},
   "source": [
    "We are also going to adapt the temporal resolution of the time series, e.g. sample only every other hour, to save some time:"
   ]
  },
  {
   "cell_type": "code",
   "execution_count": 17,
   "metadata": {
    "ExecuteTime": {
     "end_time": "2024-05-24T07:37:33.742259Z",
     "start_time": "2024-05-24T07:37:33.735104Z"
    }
   },
   "outputs": [],
   "source": [
    "resolution = 4\n",
    "ts = ts.resample(f\"{resolution}h\").first()"
   ]
  },
  {
   "cell_type": "markdown",
   "metadata": {},
   "source": [
    "## Simple capacity expansion planning example"
   ]
  },
  {
   "cell_type": "markdown",
   "metadata": {},
   "source": [
    ":::{note}\n",
    "See also https://model.energy.\n",
    ":::"
   ]
  },
  {
   "cell_type": "markdown",
   "metadata": {},
   "source": [
    "**In this tutorial, we want to build a replica of [model.energy](https://model.energy).** This tool calculates the cost of meeting a constant electricity demand from a combination of wind power, solar power and storage for different regions of the world.\n",
    "\n",
    "We deviate from [model.energy](https://model.energy) by including offshore wind generation and electricity demand profiles rather than a constant electricity demand. Also, we are going to start with Germany only. You can adapt the code to other countries as an exercise."
   ]
  },
  {
   "cell_type": "markdown",
   "metadata": {},
   "source": [
    "### Model Initialisation"
   ]
  },
  {
   "cell_type": "markdown",
   "metadata": {},
   "source": [
    "For building the model, we start again by initialising an empty network."
   ]
  },
  {
   "cell_type": "code",
   "execution_count": 18,
   "metadata": {
    "ExecuteTime": {
     "end_time": "2024-05-24T07:37:33.819917Z",
     "start_time": "2024-05-24T07:37:33.743147Z"
    }
   },
   "outputs": [],
   "source": [
    "n = pypsa.Network()"
   ]
  },
  {
   "cell_type": "markdown",
   "metadata": {},
   "source": [
    "Then, we add a single bus..."
   ]
  },
  {
   "cell_type": "code",
   "execution_count": 19,
   "metadata": {
    "ExecuteTime": {
     "end_time": "2024-05-24T07:37:33.826807Z",
     "start_time": "2024-05-24T07:37:33.820778Z"
    }
   },
   "outputs": [
    {
     "data": {
      "text/plain": [
       "Index(['aluminum'], dtype='object')"
      ]
     },
     "execution_count": 19,
     "metadata": {},
     "output_type": "execute_result"
    }
   ],
   "source": [
    "n.add(\"Bus\", \"electricity\")\n",
    "\n",
    "# 加上电解铝节点\n",
    "n.add(\"Bus\", \"aluminum\", carrier=\"AL\")"
   ]
  },
  {
   "cell_type": "markdown",
   "metadata": {},
   "source": [
    "...and tell the `pypsa.Network` object `n` what the snapshots of the model will be using the utility function `n.set_snapshots()`."
   ]
  },
  {
   "cell_type": "code",
   "execution_count": 20,
   "metadata": {
    "ExecuteTime": {
     "end_time": "2024-05-24T07:37:33.834233Z",
     "start_time": "2024-05-24T07:37:33.828849Z"
    }
   },
   "outputs": [],
   "source": [
    "n.set_snapshots(ts.index)"
   ]
  },
  {
   "cell_type": "code",
   "execution_count": 21,
   "metadata": {
    "ExecuteTime": {
     "end_time": "2024-05-24T07:37:33.839021Z",
     "start_time": "2024-05-24T07:37:33.834898Z"
    }
   },
   "outputs": [
    {
     "data": {
      "text/plain": [
       "DatetimeIndex(['2015-01-01 00:00:00', '2015-01-01 04:00:00',\n",
       "               '2015-01-01 08:00:00', '2015-01-01 12:00:00',\n",
       "               '2015-01-01 16:00:00', '2015-01-01 20:00:00',\n",
       "               '2015-01-02 00:00:00', '2015-01-02 04:00:00',\n",
       "               '2015-01-02 08:00:00', '2015-01-02 12:00:00',\n",
       "               ...\n",
       "               '2015-12-30 08:00:00', '2015-12-30 12:00:00',\n",
       "               '2015-12-30 16:00:00', '2015-12-30 20:00:00',\n",
       "               '2015-12-31 00:00:00', '2015-12-31 04:00:00',\n",
       "               '2015-12-31 08:00:00', '2015-12-31 12:00:00',\n",
       "               '2015-12-31 16:00:00', '2015-12-31 20:00:00'],\n",
       "              dtype='datetime64[ns]', name='snapshot', length=2190, freq='4h')"
      ]
     },
     "execution_count": 21,
     "metadata": {},
     "output_type": "execute_result"
    }
   ],
   "source": [
    "n.snapshots"
   ]
  },
  {
   "cell_type": "markdown",
   "metadata": {},
   "source": [
    "The weighting of the snapshots (e.g. how many hours they represent, see $w_t$ in problem formulation above) can be set in `n.snapshot_weightings`."
   ]
  },
  {
   "cell_type": "code",
   "execution_count": 22,
   "metadata": {
    "ExecuteTime": {
     "end_time": "2024-05-24T07:37:33.845382Z",
     "start_time": "2024-05-24T07:37:33.840216Z"
    }
   },
   "outputs": [
    {
     "data": {
      "text/html": [
       "<div>\n",
       "<style scoped>\n",
       "    .dataframe tbody tr th:only-of-type {\n",
       "        vertical-align: middle;\n",
       "    }\n",
       "\n",
       "    .dataframe tbody tr th {\n",
       "        vertical-align: top;\n",
       "    }\n",
       "\n",
       "    .dataframe thead th {\n",
       "        text-align: right;\n",
       "    }\n",
       "</style>\n",
       "<table border=\"1\" class=\"dataframe\">\n",
       "  <thead>\n",
       "    <tr style=\"text-align: right;\">\n",
       "      <th></th>\n",
       "      <th>objective</th>\n",
       "      <th>stores</th>\n",
       "      <th>generators</th>\n",
       "    </tr>\n",
       "    <tr>\n",
       "      <th>snapshot</th>\n",
       "      <th></th>\n",
       "      <th></th>\n",
       "      <th></th>\n",
       "    </tr>\n",
       "  </thead>\n",
       "  <tbody>\n",
       "    <tr>\n",
       "      <th>2015-01-01 00:00:00</th>\n",
       "      <td>1.0</td>\n",
       "      <td>1.0</td>\n",
       "      <td>1.0</td>\n",
       "    </tr>\n",
       "    <tr>\n",
       "      <th>2015-01-01 04:00:00</th>\n",
       "      <td>1.0</td>\n",
       "      <td>1.0</td>\n",
       "      <td>1.0</td>\n",
       "    </tr>\n",
       "    <tr>\n",
       "      <th>2015-01-01 08:00:00</th>\n",
       "      <td>1.0</td>\n",
       "      <td>1.0</td>\n",
       "      <td>1.0</td>\n",
       "    </tr>\n",
       "  </tbody>\n",
       "</table>\n",
       "</div>"
      ],
      "text/plain": [
       "                     objective  stores  generators\n",
       "snapshot                                          \n",
       "2015-01-01 00:00:00        1.0     1.0         1.0\n",
       "2015-01-01 04:00:00        1.0     1.0         1.0\n",
       "2015-01-01 08:00:00        1.0     1.0         1.0"
      ]
     },
     "execution_count": 22,
     "metadata": {},
     "output_type": "execute_result"
    }
   ],
   "source": [
    "n.snapshot_weightings.head(3)"
   ]
  },
  {
   "cell_type": "code",
   "execution_count": 23,
   "metadata": {
    "ExecuteTime": {
     "end_time": "2024-05-24T07:37:33.849949Z",
     "start_time": "2024-05-24T07:37:33.847259Z"
    }
   },
   "outputs": [],
   "source": [
    "n.snapshot_weightings.loc[:, :] = resolution"
   ]
  },
  {
   "cell_type": "code",
   "execution_count": 24,
   "metadata": {
    "ExecuteTime": {
     "end_time": "2024-05-24T07:37:33.855955Z",
     "start_time": "2024-05-24T07:37:33.851011Z"
    }
   },
   "outputs": [
    {
     "data": {
      "text/html": [
       "<div>\n",
       "<style scoped>\n",
       "    .dataframe tbody tr th:only-of-type {\n",
       "        vertical-align: middle;\n",
       "    }\n",
       "\n",
       "    .dataframe tbody tr th {\n",
       "        vertical-align: top;\n",
       "    }\n",
       "\n",
       "    .dataframe thead th {\n",
       "        text-align: right;\n",
       "    }\n",
       "</style>\n",
       "<table border=\"1\" class=\"dataframe\">\n",
       "  <thead>\n",
       "    <tr style=\"text-align: right;\">\n",
       "      <th></th>\n",
       "      <th>objective</th>\n",
       "      <th>stores</th>\n",
       "      <th>generators</th>\n",
       "    </tr>\n",
       "    <tr>\n",
       "      <th>snapshot</th>\n",
       "      <th></th>\n",
       "      <th></th>\n",
       "      <th></th>\n",
       "    </tr>\n",
       "  </thead>\n",
       "  <tbody>\n",
       "    <tr>\n",
       "      <th>2015-01-01 00:00:00</th>\n",
       "      <td>4.0</td>\n",
       "      <td>4.0</td>\n",
       "      <td>4.0</td>\n",
       "    </tr>\n",
       "    <tr>\n",
       "      <th>2015-01-01 04:00:00</th>\n",
       "      <td>4.0</td>\n",
       "      <td>4.0</td>\n",
       "      <td>4.0</td>\n",
       "    </tr>\n",
       "    <tr>\n",
       "      <th>2015-01-01 08:00:00</th>\n",
       "      <td>4.0</td>\n",
       "      <td>4.0</td>\n",
       "      <td>4.0</td>\n",
       "    </tr>\n",
       "  </tbody>\n",
       "</table>\n",
       "</div>"
      ],
      "text/plain": [
       "                     objective  stores  generators\n",
       "snapshot                                          \n",
       "2015-01-01 00:00:00        4.0     4.0         4.0\n",
       "2015-01-01 04:00:00        4.0     4.0         4.0\n",
       "2015-01-01 08:00:00        4.0     4.0         4.0"
      ]
     },
     "execution_count": 24,
     "metadata": {},
     "output_type": "execute_result"
    }
   ],
   "source": [
    "n.snapshot_weightings.head(3)"
   ]
  },
  {
   "cell_type": "markdown",
   "metadata": {},
   "source": [
    "### Adding Components"
   ]
  },
  {
   "cell_type": "markdown",
   "metadata": {},
   "source": [
    "Then, we add all the technologies we are going to include as carriers."
   ]
  },
  {
   "cell_type": "code",
   "execution_count": 25,
   "metadata": {
    "ExecuteTime": {
     "end_time": "2024-05-24T07:37:33.861842Z",
     "start_time": "2024-05-24T07:37:33.856810Z"
    }
   },
   "outputs": [
    {
     "data": {
      "text/plain": [
       "Index(['onwind', 'offwind', 'solar', 'OCGT', 'hydrogen storage underground',\n",
       "       'battery storage'],\n",
       "      dtype='object')"
      ]
     },
     "execution_count": 25,
     "metadata": {},
     "output_type": "execute_result"
    }
   ],
   "source": [
    "carriers = [\n",
    "    \"onwind\",\n",
    "    \"offwind\",\n",
    "    \"solar\",\n",
    "    \"OCGT\",\n",
    "    \"hydrogen storage underground\",\n",
    "    \"battery storage\",\n",
    "]\n",
    "\n",
    "n.add(\n",
    "    \"Carrier\",\n",
    "    carriers,\n",
    "    color=[\"dodgerblue\", \"aquamarine\", \"gold\", \"indianred\", \"magenta\", \"yellowgreen\"],\n",
    "    co2_emissions=[costs.at[c, \"CO2 intensity\"] for c in carriers],\n",
    ")"
   ]
  },
  {
   "cell_type": "markdown",
   "metadata": {},
   "source": [
    "Next, we add the demand time series to the model."
   ]
  },
  {
   "cell_type": "code",
   "execution_count": 26,
   "metadata": {
    "ExecuteTime": {
     "end_time": "2024-05-24T07:37:33.866618Z",
     "start_time": "2024-05-24T07:37:33.862680Z"
    }
   },
   "outputs": [
    {
     "data": {
      "text/plain": [
       "Index(['al demand'], dtype='object')"
      ]
     },
     "execution_count": 26,
     "metadata": {},
     "output_type": "execute_result"
    }
   ],
   "source": [
    "n.add(\n",
    "    \"Load\",\n",
    "    \"demand\",\n",
    "    bus=\"electricity\",\n",
    "    p_set=ts.load,\n",
    ")\n",
    "\n",
    "n.add(\n",
    "    \"Load\", \n",
    "    \"al demand\", \n",
    "    bus=\"aluminum\", \n",
    "    p_set=ts.aluminum,\n",
    "    )"
   ]
  },
  {
   "cell_type": "markdown",
   "metadata": {},
   "source": [
    "Let's have a check whether the data was read-in correctly."
   ]
  },
  {
   "cell_type": "code",
   "execution_count": 27,
   "metadata": {
    "ExecuteTime": {
     "end_time": "2024-05-24T07:37:34.547493Z",
     "start_time": "2024-05-24T07:37:33.867650Z"
    }
   },
   "outputs": [
    {
     "data": {
      "text/plain": [
       "<Axes: xlabel='snapshot', ylabel='MW'>"
      ]
     },
     "execution_count": 27,
     "metadata": {},
     "output_type": "execute_result"
    },
    {
     "data": {
      "image/png": "[encoded data removed]",
      "text/plain": [
       "<Figure size 600x200 with 1 Axes>"
      ]
     },
     "metadata": {},
     "output_type": "display_data"
    }
   ],
   "source": [
    "n.loads_t.p_set.plot(figsize=(6, 2), ylabel=\"MW\")"
   ]
  },
  {
   "cell_type": "markdown",
   "metadata": {},
   "source": [
    "We are going to add one dispatchable generation technology to the model. This is an open-cycle gas turbine (OCGT) with CO$_2$ emissions of 0.2 t/MWh$_{th}$."
   ]
  },
  {
   "cell_type": "code",
   "execution_count": 28,
   "metadata": {
    "ExecuteTime": {
     "end_time": "2024-05-24T07:37:34.553677Z",
     "start_time": "2024-05-24T07:37:34.549041Z"
    }
   },
   "outputs": [
    {
     "data": {
      "text/plain": [
       "Index(['aluminum storage'], dtype='object')"
      ]
     },
     "execution_count": 28,
     "metadata": {},
     "output_type": "execute_result"
    }
   ],
   "source": [
    "n.add(\n",
    "    \"Generator\",\n",
    "    \"OCGT\",\n",
    "    bus=\"electricity\",\n",
    "    carrier=\"OCGT\",\n",
    "    capital_cost=costs.at[\"OCGT\", \"capital_cost\"],\n",
    "    marginal_cost=costs.at[\"OCGT\", \"marginal_cost\"],\n",
    "    efficiency=costs.at[\"OCGT\", \"efficiency\"],\n",
    "    p_nom_extendable=True,\n",
    ")\n",
    "\n",
    "# 加上smelter\n",
    "n.add(\n",
    "    \"Link\", \n",
    "    \"smelter\", \n",
    "    bus0=\"electricity\", \n",
    "    bus1=\"aluminum\", # measured by eletricity\n",
    "    p_nom=10 * 1e3, # 10 GW\n",
    "    efficiency= 1, # MWh\n",
    ")\n",
    "\n",
    "# 使用 math.inf\n",
    "n.add(\n",
    "    \"Store\", \n",
    "    \"aluminum storage\", \n",
    "    bus=\"aluminum\", \n",
    "    e_nom=float('inf'),  # 或者使用 float('inf')\n",
    "    e_cyclic=True, \n",
    ")\n"
   ]
  },
  {
   "cell_type": "markdown",
   "metadata": {},
   "source": [
    "Adding the variable renewable generators works almost identically, but we also need to supply the capacity factors to the model via the attribute `p_max_pu`."
   ]
  },
  {
   "cell_type": "code",
   "execution_count": 29,
   "metadata": {
    "ExecuteTime": {
     "end_time": "2024-05-24T07:37:34.561820Z",
     "start_time": "2024-05-24T07:37:34.554441Z"
    }
   },
   "outputs": [],
   "source": [
    "for tech in [\"onwind\", \"offwind\", \"solar\"]:\n",
    "    n.add(\n",
    "        \"Generator\",\n",
    "        tech,\n",
    "        bus=\"electricity\",\n",
    "        carrier=tech,\n",
    "        p_max_pu=ts[tech],\n",
    "        capital_cost=costs.at[tech, \"capital_cost\"],\n",
    "        marginal_cost=costs.at[tech, \"marginal_cost\"],\n",
    "        efficiency=costs.at[tech, \"efficiency\"],\n",
    "        p_nom_extendable=True,\n",
    "    )"
   ]
  },
  {
   "cell_type": "markdown",
   "metadata": {},
   "source": [
    "So let's make sure the capacity factors are read-in correctly."
   ]
  },
  {
   "cell_type": "code",
   "execution_count": 30,
   "metadata": {
    "ExecuteTime": {
     "end_time": "2024-05-24T07:37:34.742640Z",
     "start_time": "2024-05-24T07:37:34.562676Z"
    }
   },
   "outputs": [
    {
     "data": {
      "text/plain": [
       "<Axes: xlabel='snapshot', ylabel='CF'>"
      ]
     },
     "execution_count": 30,
     "metadata": {},
     "output_type": "execute_result"
    },
    {
     "data": {
      "image/png": "[encoded data removed]",
      "text/plain": [
       "<Figure size 600x200 with 1 Axes>"
      ]
     },
     "metadata": {},
     "output_type": "display_data"
    }
   ],
   "source": [
    "n.generators_t.p_max_pu.loc[\"2015-03\"].plot(figsize=(6, 2), ylabel=\"CF\")"
   ]
  },
  {
   "cell_type": "markdown",
   "metadata": {},
   "source": [
    "### Model Run"
   ]
  },
  {
   "cell_type": "markdown",
   "metadata": {},
   "source": [
    "Then, we can already solve the model for the first time. At this stage, the model does not have any storage or emission limits implemented. It's going to look for the least-cost combination of variable renewables and the gas turbine to supply demand."
   ]
  },
  {
   "cell_type": "code",
   "execution_count": 31,
   "metadata": {
    "ExecuteTime": {
     "end_time": "2024-05-24T07:37:35.306567Z",
     "start_time": "2024-05-24T07:37:34.744060Z"
    }
   },
   "outputs": [
    {
     "name": "stderr",
     "output_type": "stream",
     "text": [
      "WARNING:pypsa.consistency:The following buses have carriers which are not defined:\n",
      "Index(['electricity', 'aluminum'], dtype='object', name='Bus')\n",
      "WARNING:pypsa.consistency:The following links have carriers which are not defined:\n",
      "Index(['smelter'], dtype='object', name='Link')\n",
      "WARNING:pypsa.consistency:The following stores have carriers which are not defined:\n",
      "Index(['aluminum storage'], dtype='object', name='Store')\n",
      "WARNING:pypsa.consistency:The following buses have carriers which are not defined:\n",
      "Index(['electricity', 'aluminum'], dtype='object', name='Bus')\n",
      "WARNING:pypsa.consistency:The following links have carriers which are not defined:\n",
      "Index(['smelter'], dtype='object', name='Link')\n",
      "WARNING:pypsa.consistency:The following stores have carriers which are not defined:\n",
      "Index(['aluminum storage'], dtype='object', name='Store')\n",
      "C:\\Users\\dell\\AppData\\Roaming\\Python\\Python312\\site-packages\\linopy\\common.py:147: UserWarning: coords for dimension(s) ['Generator'] is not aligned with the pandas object. Previously, the indexes of the pandas were ignored and overwritten in these cases. Now, the pandas object's coordinates are taken considered for alignment.\n",
      "  warn(\n",
      "INFO:linopy.model: Solve problem using Highs solver\n",
      "INFO:linopy.io:Writing objective.\n",
      "Writing constraints.: 100%|\u001b[38;2;128;191;255m██████████\u001b[0m| 12/12 [00:00<00:00, 56.86it/s]\n",
      "Writing continuous variables.: 100%|\u001b[38;2;128;191;255m██████████\u001b[0m| 5/5 [00:00<00:00, 142.13it/s]\n",
      "INFO:linopy.io: Writing time: 0.29s\n",
      "INFO:linopy.solvers:Log file at C:\\Users\\dell\\AppData\\Local\\Temp\\highs.log\n",
      "INFO:linopy.constants: Optimization successful: \n",
      "Status: ok\n",
      "Termination condition: optimal\n",
      "Solution: 15334 primals, 32858 duals\n",
      "Objective: 3.11e+10\n",
      "Solver model: available\n",
      "Solver message: optimal\n",
      "\n",
      "INFO:pypsa.optimization.optimize:The shadow-prices of the constraints Generator-ext-p-lower, Generator-ext-p-upper, Link-fix-p-lower, Link-fix-p-upper, Store-fix-e-lower, Store-fix-e-upper, Store-energy_balance were not assigned to the network.\n"
     ]
    },
    {
     "data": {
      "text/plain": [
       "('ok', 'optimal')"
      ]
     },
     "execution_count": 31,
     "metadata": {},
     "output_type": "execute_result"
    }
   ],
   "source": [
    "n.optimize(solver_name=\"highs\")"
   ]
  },
  {
   "cell_type": "markdown",
   "metadata": {},
   "source": [
    "### Model Evaluation"
   ]
  },
  {
   "cell_type": "markdown",
   "metadata": {},
   "source": [
    "The total system cost in billion Euros per year:"
   ]
  },
  {
   "cell_type": "code",
   "execution_count": 32,
   "metadata": {
    "ExecuteTime": {
     "end_time": "2024-05-24T07:37:35.309989Z",
     "start_time": "2024-05-24T07:37:35.307258Z"
    }
   },
   "outputs": [
    {
     "data": {
      "text/plain": [
       "31.130009817255424"
      ]
     },
     "execution_count": 32,
     "metadata": {},
     "output_type": "execute_result"
    }
   ],
   "source": [
    "n.objective / 1e9"
   ]
  },
  {
   "cell_type": "markdown",
   "metadata": {},
   "source": [
    "The optimised capacities in GW:"
   ]
  },
  {
   "cell_type": "code",
   "execution_count": 33,
   "metadata": {
    "ExecuteTime": {
     "end_time": "2024-05-24T07:37:35.321024Z",
     "start_time": "2024-05-24T07:37:35.316333Z"
    }
   },
   "outputs": [
    {
     "data": {
      "text/plain": [
       "Generator\n",
       "OCGT       64.538520\n",
       "onwind     -0.000000\n",
       "offwind    53.990317\n",
       "solar      91.710999\n",
       "Name: p_nom_opt, dtype: float64"
      ]
     },
     "execution_count": 33,
     "metadata": {},
     "output_type": "execute_result"
    }
   ],
   "source": [
    "n.generators.p_nom_opt.div(1e3)  # GW"
   ]
  },
  {
   "cell_type": "markdown",
   "metadata": {},
   "source": [
    "The total energy generation by technology in GW:"
   ]
  },
  {
   "cell_type": "code",
   "execution_count": 34,
   "metadata": {
    "ExecuteTime": {
     "end_time": "2024-05-24T07:37:35.325340Z",
     "start_time": "2024-05-24T07:37:35.321798Z"
    }
   },
   "outputs": [
    {
     "data": {
      "text/plain": [
       "Generator\n",
       "OCGT       215.082093\n",
       "onwind       0.000000\n",
       "offwind    164.731624\n",
       "solar       99.112024\n",
       "Name: generators, dtype: float64"
      ]
     },
     "execution_count": 34,
     "metadata": {},
     "output_type": "execute_result"
    }
   ],
   "source": [
    "n.snapshot_weightings.generators @ n.generators_t.p.div(1e6)  # TWh"
   ]
  },
  {
   "cell_type": "markdown",
   "metadata": {},
   "source": [
    "While we get the objective value through `n.objective`, in many cases we want to know how the costs are distributed across the technologies. We can use the statistics module for this:"
   ]
  },
  {
   "cell_type": "code",
   "execution_count": 35,
   "metadata": {
    "ExecuteTime": {
     "end_time": "2024-05-24T07:37:35.336635Z",
     "start_time": "2024-05-24T07:37:35.326246Z"
    }
   },
   "outputs": [
    {
     "data": {
      "text/plain": [
       "component  carrier\n",
       "Generator  OCGT       16992.051976\n",
       "           offwind     9427.838194\n",
       "           solar       4710.119647\n",
       "dtype: float64"
      ]
     },
     "execution_count": 35,
     "metadata": {},
     "output_type": "execute_result"
    }
   ],
   "source": [
    "(n.statistics.capex() + n.statistics.opex()).div(1e6)"
   ]
  },
  {
   "cell_type": "markdown",
   "metadata": {},
   "source": [
    "Possibly, we are also interested in the total emissions:"
   ]
  },
  {
   "cell_type": "code",
   "execution_count": 36,
   "metadata": {
    "ExecuteTime": {
     "end_time": "2024-05-24T07:37:35.340180Z",
     "start_time": "2024-05-24T07:37:35.337550Z"
    }
   },
   "outputs": [],
   "source": [
    "emissions = (\n",
    "    n.generators_t.p\n",
    "    / n.generators.efficiency\n",
    "    * n.generators.carrier.map(n.carriers.co2_emissions)\n",
    ")  # t/h"
   ]
  },
  {
   "cell_type": "code",
   "execution_count": 37,
   "metadata": {
    "ExecuteTime": {
     "end_time": "2024-05-24T07:37:35.344057Z",
     "start_time": "2024-05-24T07:37:35.340740Z"
    }
   },
   "outputs": [
    {
     "data": {
      "text/plain": [
       "103.86891310391795"
      ]
     },
     "execution_count": 37,
     "metadata": {},
     "output_type": "execute_result"
    }
   ],
   "source": [
    "n.snapshot_weightings.generators @ emissions.sum(axis=1).div(1e6)  # Mt"
   ]
  },
  {
   "cell_type": "markdown",
   "metadata": {},
   "source": [
    "### Plotting Optimal Dispatch"
   ]
  },
  {
   "cell_type": "markdown",
   "metadata": {},
   "source": [
    "This function takes the network object `n` as an argument and, optionally, a time frame. We want to plot the load time series, and stacked area charts for electricity feed-in and storage charging. Technologies should be coloured by their color defined in `n.carriers`."
   ]
  },
  {
   "cell_type": "code",
   "execution_count": 38,
   "metadata": {
    "ExecuteTime": {
     "end_time": "2024-05-24T07:37:35.347845Z",
     "start_time": "2024-05-24T07:37:35.344674Z"
    }
   },
   "outputs": [],
   "source": [
    "def plot_dispatch(n, time=\"2015-07\"):\n",
    "    p_by_carrier = n.generators_t.p.groupby(n.generators.carrier, axis=1).sum().div(1e3)\n",
    "\n",
    "    if not n.storage_units.empty:\n",
    "        sto = n.storage_units_t.p.T.groupby(n.storage_units.carrier).sum().T.div(1e3)\n",
    "        p_by_carrier = pd.concat([p_by_carrier, sto], axis=1)\n",
    "\n",
    "    fig, ax = plt.subplots(figsize=(6, 3))\n",
    "\n",
    "    color = p_by_carrier.columns.map(n.carriers.color)\n",
    "\n",
    "    p_by_carrier.where(p_by_carrier > 0).loc[time].plot.area(\n",
    "        ax=ax,\n",
    "        linewidth=0,\n",
    "        color=color,\n",
    "    )\n",
    "\n",
    "    charge = p_by_carrier.where(p_by_carrier < 0).dropna(how=\"all\", axis=1).loc[time]\n",
    "\n",
    "    if not charge.empty:\n",
    "        charge.plot.area(\n",
    "            ax=ax,\n",
    "            linewidth=0,\n",
    "            color=charge.columns.map(n.carriers.color),\n",
    "        )\n",
    "\n",
    "    n.loads_t.p_set.sum(axis=1).loc[time].div(1e3).plot(ax=ax, c=\"k\")\n",
    "\n",
    "    plt.legend(loc=(1.05, 0))\n",
    "    ax.set_ylabel(\"GW\")\n",
    "    ax.set_ylim(-200, 200)"
   ]
  },
  {
   "cell_type": "markdown",
   "metadata": {},
   "source": [
    "Oje, that was complicated. Let's test it:"
   ]
  },
  {
   "cell_type": "code",
   "execution_count": 39,
   "metadata": {
    "ExecuteTime": {
     "end_time": "2024-05-24T07:37:35.558251Z",
     "start_time": "2024-05-24T07:37:35.348657Z"
    }
   },
   "outputs": [
    {
     "name": "stderr",
     "output_type": "stream",
     "text": [
      "C:\\Users\\dell\\AppData\\Local\\Temp\\ipykernel_29548\\184362636.py:2: FutureWarning: DataFrame.groupby with axis=1 is deprecated. Do `frame.T.groupby(...)` without axis instead.\n",
      "  p_by_carrier = n.generators_t.p.groupby(n.generators.carrier, axis=1).sum().div(1e3)\n"
     ]
    },
    {
     "data": {
      "image/png": "[encoded data removed]",
      "text/plain": [
       "<Figure size 600x300 with 1 Axes>"
      ]
     },
     "metadata": {},
     "output_type": "display_data"
    }
   ],
   "source": [
    "plot_dispatch(n)"
   ]
  },
  {
   "cell_type": "markdown",
   "metadata": {},
   "source": [
    "## Adding Storage Units"
   ]
  },
  {
   "cell_type": "markdown",
   "metadata": {},
   "source": [
    "Alright, but there are a few important components missing for a system with high shares of renewables? What about short-term storage options (e.g. batteries) and long-term storage options (e.g. hydrogen storage)? Let's add them too."
   ]
  },
  {
   "cell_type": "markdown",
   "metadata": {},
   "source": [
    "First, the battery storage. We are going to assume a fixed energy-to-power ratio of 6 hours, i.e. if fully charged, the battery can discharge at full capacity for 6 hours.\n",
    "For the capital cost, we have to factor in both the capacity and energy cost of the storage. We are also going to enforce a cyclic state-of-charge condition, i.e. the state of charge\n",
    "at the beginning of the optimisation period must equal the final state of charge."
   ]
  },
  {
   "cell_type": "code",
   "execution_count": 40,
   "metadata": {
    "ExecuteTime": {
     "end_time": "2024-05-24T07:37:35.563868Z",
     "start_time": "2024-05-24T07:37:35.559288Z"
    }
   },
   "outputs": [
    {
     "data": {
      "text/plain": [
       "Index(['battery storage'], dtype='object')"
      ]
     },
     "execution_count": 40,
     "metadata": {},
     "output_type": "execute_result"
    }
   ],
   "source": [
    "n.add(\n",
    "    \"StorageUnit\",\n",
    "    \"battery storage\",\n",
    "    bus=\"electricity\",\n",
    "    carrier=\"battery storage\",\n",
    "    max_hours=6,\n",
    "    capital_cost=costs.at[\"battery inverter\", \"capital_cost\"]\n",
    "    + 6 * costs.at[\"battery storage\", \"capital_cost\"],\n",
    "    efficiency_store=costs.at[\"battery inverter\", \"efficiency\"],\n",
    "    efficiency_dispatch=costs.at[\"battery inverter\", \"efficiency\"],\n",
    "    p_nom_extendable=True,\n",
    "    cyclic_state_of_charge=True,\n",
    ")"
   ]
  },
  {
   "cell_type": "markdown",
   "metadata": {},
   "source": [
    "Second, the hydrogen storage. This one is composed of an electrolysis to convert electricity to hydrogen, a fuel cell to re-convert hydrogen to electricity and underground storage (e.g. in salt caverns). We assume an energy-to-power ratio of 168 hours, such that this type of storage can be used for weekly balancing."
   ]
  },
  {
   "cell_type": "code",
   "execution_count": 41,
   "metadata": {
    "ExecuteTime": {
     "end_time": "2024-05-24T07:37:35.568599Z",
     "start_time": "2024-05-24T07:37:35.564495Z"
    }
   },
   "outputs": [
    {
     "data": {
      "text/plain": [
       "Index(['hydrogen storage underground'], dtype='object')"
      ]
     },
     "execution_count": 41,
     "metadata": {},
     "output_type": "execute_result"
    }
   ],
   "source": [
    "capital_costs = (\n",
    "    costs.at[\"electrolysis\", \"capital_cost\"]\n",
    "    + costs.at[\"fuel cell\", \"capital_cost\"]\n",
    "    + 168 * costs.at[\"hydrogen storage underground\", \"capital_cost\"]\n",
    ")\n",
    "\n",
    "n.add(\n",
    "    \"StorageUnit\",\n",
    "    \"hydrogen storage underground\",\n",
    "    bus=\"electricity\",\n",
    "    carrier=\"hydrogen storage underground\",\n",
    "    max_hours=168,\n",
    "    capital_cost=capital_costs,\n",
    "    efficiency_store=costs.at[\"electrolysis\", \"efficiency\"],\n",
    "    efficiency_dispatch=costs.at[\"fuel cell\", \"efficiency\"],\n",
    "    p_nom_extendable=True,\n",
    "    cyclic_state_of_charge=True,\n",
    ")"
   ]
  },
  {
   "cell_type": "markdown",
   "metadata": {},
   "source": [
    "Ok, lets run the again, now with storage, and see what's changed."
   ]
  },
  {
   "cell_type": "code",
   "execution_count": 42,
   "metadata": {
    "ExecuteTime": {
     "end_time": "2024-05-24T07:37:37.787634Z",
     "start_time": "2024-05-24T07:37:35.569153Z"
    },
    "tags": [
     "hide-output"
    ]
   },
   "outputs": [],
   "source": [
    "# n.optimize(solver_name=\"highs\")"
   ]
  },
  {
   "cell_type": "code",
   "execution_count": 43,
   "metadata": {
    "ExecuteTime": {
     "end_time": "2024-05-24T07:37:37.791962Z",
     "start_time": "2024-05-24T07:37:37.788910Z"
    }
   },
   "outputs": [],
   "source": [
    "# n.generators.p_nom_opt  # MW"
   ]
  },
  {
   "cell_type": "code",
   "execution_count": 44,
   "metadata": {
    "ExecuteTime": {
     "end_time": "2024-05-24T07:37:37.795694Z",
     "start_time": "2024-05-24T07:37:37.792887Z"
    }
   },
   "outputs": [],
   "source": [
    "# n.storage_units.p_nom_opt  # MW"
   ]
  },
  {
   "cell_type": "markdown",
   "metadata": {},
   "source": [
    "**Nothing!** The objective value is the same, and no storage is built."
   ]
  },
  {
   "cell_type": "markdown",
   "metadata": {},
   "source": [
    "### Adding emission limits"
   ]
  },
  {
   "cell_type": "markdown",
   "metadata": {},
   "source": [
    "The gas power plant offers sufficient and cheap enough backup capacity to run in periods of low wind and solar generation. But what happens if this source of flexibility disappears. Let's model a 100% renewable electricity system by adding a CO$_2$ emission limit as global constraint:"
   ]
  },
  {
   "cell_type": "code",
   "execution_count": 45,
   "metadata": {
    "ExecuteTime": {
     "end_time": "2024-05-24T07:37:37.799340Z",
     "start_time": "2024-05-24T07:37:37.796340Z"
    }
   },
   "outputs": [
    {
     "data": {
      "text/plain": [
       "Index(['CO2Limit'], dtype='object')"
      ]
     },
     "execution_count": 45,
     "metadata": {},
     "output_type": "execute_result"
    }
   ],
   "source": [
    "n.add(\n",
    "    \"GlobalConstraint\",\n",
    "    \"CO2Limit\",\n",
    "    carrier_attribute=\"co2_emissions\",\n",
    "    sense=\"<=\",\n",
    "    constant=0,\n",
    ")"
   ]
  },
  {
   "cell_type": "markdown",
   "metadata": {},
   "source": [
    "When we run the model now..."
   ]
  },
  {
   "cell_type": "code",
   "execution_count": 46,
   "metadata": {
    "ExecuteTime": {
     "end_time": "2024-05-24T07:37:45.394431Z",
     "start_time": "2024-05-24T07:37:37.799959Z"
    },
    "tags": [
     "hide-output"
    ]
   },
   "outputs": [
    {
     "name": "stderr",
     "output_type": "stream",
     "text": [
      "WARNING:pypsa.consistency:The following buses have carriers which are not defined:\n",
      "Index(['electricity', 'aluminum'], dtype='object', name='Bus')\n",
      "WARNING:pypsa.consistency:The following links have carriers which are not defined:\n",
      "Index(['smelter'], dtype='object', name='Link')\n",
      "WARNING:pypsa.consistency:The following stores have carriers which are not defined:\n",
      "Index(['aluminum storage'], dtype='object', name='Store')\n",
      "WARNING:pypsa.consistency:The following buses have carriers which are not defined:\n",
      "Index(['electricity', 'aluminum'], dtype='object', name='Bus')\n",
      "WARNING:pypsa.consistency:The following links have carriers which are not defined:\n",
      "Index(['smelter'], dtype='object', name='Link')\n",
      "WARNING:pypsa.consistency:The following stores have carriers which are not defined:\n",
      "Index(['aluminum storage'], dtype='object', name='Store')\n",
      "C:\\Users\\dell\\AppData\\Roaming\\Python\\Python312\\site-packages\\linopy\\common.py:147: UserWarning: coords for dimension(s) ['Generator'] is not aligned with the pandas object. Previously, the indexes of the pandas were ignored and overwritten in these cases. Now, the pandas object's coordinates are taken considered for alignment.\n",
      "  warn(\n",
      "INFO:linopy.model: Solve problem using Highs solver\n",
      "INFO:linopy.io:Writing objective.\n",
      "Writing constraints.: 100%|\u001b[38;2;128;191;255m██████████\u001b[0m| 22/22 [00:00<00:00, 55.34it/s]\n",
      "Writing continuous variables.: 100%|\u001b[38;2;128;191;255m██████████\u001b[0m| 9/9 [00:00<00:00, 96.00it/s]\n",
      "INFO:linopy.io: Writing time: 0.53s\n",
      "INFO:linopy.solvers:Log file at C:\\Users\\dell\\AppData\\Local\\Temp\\highs.log\n",
      "INFO:linopy.constants: Optimization successful: \n",
      "Status: ok\n",
      "Termination condition: optimal\n",
      "Solution: 28476 primals, 63521 duals\n",
      "Objective: 7.19e+10\n",
      "Solver model: available\n",
      "Solver message: optimal\n",
      "\n",
      "INFO:pypsa.optimization.optimize:The shadow-prices of the constraints Generator-ext-p-lower, Generator-ext-p-upper, Link-fix-p-lower, Link-fix-p-upper, Store-fix-e-lower, Store-fix-e-upper, StorageUnit-ext-p_dispatch-lower, StorageUnit-ext-p_dispatch-upper, StorageUnit-ext-p_store-lower, StorageUnit-ext-p_store-upper, StorageUnit-ext-state_of_charge-lower, StorageUnit-ext-state_of_charge-upper, StorageUnit-energy_balance, Store-energy_balance were not assigned to the network.\n"
     ]
    },
    {
     "data": {
      "text/plain": [
       "('ok', 'optimal')"
      ]
     },
     "execution_count": 46,
     "metadata": {},
     "output_type": "execute_result"
    }
   ],
   "source": [
    "n.optimize(solver_name=\"highs\")"
   ]
  },
  {
   "cell_type": "markdown",
   "metadata": {},
   "source": [
    "...and inspect the capacities built..."
   ]
  },
  {
   "cell_type": "code",
   "execution_count": 47,
   "metadata": {
    "ExecuteTime": {
     "end_time": "2024-05-24T07:37:45.399018Z",
     "start_time": "2024-05-24T07:37:45.395494Z"
    }
   },
   "outputs": [
    {
     "data": {
      "text/plain": [
       "Generator\n",
       "OCGT           -0.000000\n",
       "onwind     243808.250949\n",
       "offwind     57548.088647\n",
       "solar      249991.717445\n",
       "Name: p_nom_opt, dtype: float64"
      ]
     },
     "execution_count": 47,
     "metadata": {},
     "output_type": "execute_result"
    }
   ],
   "source": [
    "n.generators.p_nom_opt  # MW"
   ]
  },
  {
   "cell_type": "code",
   "execution_count": 48,
   "metadata": {
    "ExecuteTime": {
     "end_time": "2024-05-24T07:37:45.401975Z",
     "start_time": "2024-05-24T07:37:45.399539Z"
    }
   },
   "outputs": [
    {
     "data": {
      "text/plain": [
       "StorageUnit\n",
       "battery storage                 40399.763341\n",
       "hydrogen storage underground    45658.932810\n",
       "Name: p_nom_opt, dtype: float64"
      ]
     },
     "execution_count": 48,
     "metadata": {},
     "output_type": "execute_result"
    }
   ],
   "source": [
    "n.storage_units.p_nom_opt  # MW"
   ]
  },
  {
   "cell_type": "code",
   "execution_count": 49,
   "metadata": {
    "ExecuteTime": {
     "end_time": "2024-05-24T07:37:45.405138Z",
     "start_time": "2024-05-24T07:37:45.402505Z"
    }
   },
   "outputs": [
    {
     "data": {
      "text/plain": [
       "StorageUnit\n",
       "battery storage                  242.398580\n",
       "hydrogen storage underground    7670.700712\n",
       "dtype: float64"
      ]
     },
     "execution_count": 49,
     "metadata": {},
     "output_type": "execute_result"
    }
   ],
   "source": [
    "n.storage_units.p_nom_opt.div(1e3) * n.storage_units.max_hours  # GWh"
   ]
  },
  {
   "cell_type": "markdown",
   "metadata": {},
   "source": [
    "... we see quite a bit of storage. So how does the optimised dispatch of the system look like?"
   ]
  },
  {
   "cell_type": "code",
   "execution_count": 45,
   "metadata": {
    "ExecuteTime": {
     "end_time": "2024-05-24T07:37:45.751226Z",
     "start_time": "2024-05-24T07:37:45.405789Z"
    }
   },
   "outputs": [
    {
     "name": "stderr",
     "output_type": "stream",
     "text": [
      "C:\\Users\\dell\\AppData\\Local\\Temp\\ipykernel_26276\\184362636.py:2: FutureWarning: DataFrame.groupby with axis=1 is deprecated. Do `frame.T.groupby(...)` without axis instead.\n",
      "  p_by_carrier = n.generators_t.p.groupby(n.generators.carrier, axis=1).sum().div(1e3)\n",
      "c:\\ProgramData\\Anaconda3\\envs\\pypsa-china\\Lib\\site-packages\\pandas\\plotting\\_matplotlib\\core.py:1800: UserWarning: Attempting to set identical low and high ylims makes transformation singular; automatically expanding.\n",
      "  ax.set_ylim(None, 0)\n"
     ]
    },
    {
     "data": {
      "image/png": "[encoded data removed]",
      "text/plain": [
       "<Figure size 600x300 with 1 Axes>"
      ]
     },
     "metadata": {},
     "output_type": "display_data"
    }
   ],
   "source": [
    "plot_dispatch(n)"
   ]
  },
  {
   "cell_type": "markdown",
   "metadata": {},
   "source": [
    "We are also keen to see what technologies constitute the largest cost components. For that we're going to define a small helper function:"
   ]
  },
  {
   "cell_type": "code",
   "execution_count": 47,
   "metadata": {
    "ExecuteTime": {
     "end_time": "2024-05-24T07:37:45.775316Z",
     "start_time": "2024-05-24T07:37:45.760989Z"
    }
   },
   "outputs": [],
   "source": [
    "def system_cost(n):\n",
    "    tsc = n.statistics.capex() + n.statistics.opex()\n",
    "    return tsc.droplevel(0).div(1e6)  # million €/a"
   ]
  },
  {
   "cell_type": "code",
   "execution_count": 48,
   "metadata": {
    "ExecuteTime": {
     "end_time": "2024-05-24T07:37:45.794492Z",
     "start_time": "2024-05-24T07:37:45.778902Z"
    }
   },
   "outputs": [
    {
     "data": {
      "text/plain": [
       "carrier\n",
       "offwind                         12353.603388\n",
       "onwind                          13532.296237\n",
       "solar                           12476.814978\n",
       "battery storage                          NaN\n",
       "hydrogen storage underground             NaN\n",
       "dtype: float64"
      ]
     },
     "execution_count": 48,
     "metadata": {},
     "output_type": "execute_result"
    }
   ],
   "source": [
    "system_cost(n)"
   ]
  },
  {
   "cell_type": "markdown",
   "metadata": {},
   "source": [
    "This series, we can then process into plots, e.g. a pie chart:"
   ]
  },
  {
   "cell_type": "code",
   "execution_count": 49,
   "metadata": {
    "ExecuteTime": {
     "end_time": "2024-05-24T07:37:45.843812Z",
     "start_time": "2024-05-24T07:37:45.795199Z"
    }
   },
   "outputs": [
    {
     "data": {
      "text/plain": [
       "<Axes: >"
      ]
     },
     "execution_count": 49,
     "metadata": {},
     "output_type": "execute_result"
    },
    {
     "data": {
      "image/png": "[encoded data removed]",
      "text/plain": [
       "<Figure size 200x200 with 1 Axes>"
      ]
     },
     "metadata": {},
     "output_type": "display_data"
    }
   ],
   "source": [
    "system_cost(n).plot.pie(figsize=(2, 2))"
   ]
  },
  {
   "cell_type": "markdown",
   "metadata": {},
   "source": [
    "or use to compute the cost per unit of electricity consumed:"
   ]
  },
  {
   "cell_type": "code",
   "execution_count": 50,
   "metadata": {
    "ExecuteTime": {
     "end_time": "2024-05-24T07:37:45.848857Z",
     "start_time": "2024-05-24T07:37:45.845406Z"
    }
   },
   "outputs": [],
   "source": [
    "demand = n.snapshot_weightings.generators @ n.loads_t.p_set.sum(axis=1)"
   ]
  },
  {
   "cell_type": "code",
   "execution_count": 51,
   "metadata": {
    "ExecuteTime": {
     "end_time": "2024-05-24T07:37:45.869432Z",
     "start_time": "2024-05-24T07:37:45.851190Z"
    }
   },
   "outputs": [
    {
     "data": {
      "text/plain": [
       "80.10159278964981"
      ]
     },
     "execution_count": 51,
     "metadata": {},
     "output_type": "execute_result"
    }
   ],
   "source": [
    "system_cost(n).sum() * 1e6 / demand.sum()"
   ]
  },
  {
   "cell_type": "code",
   "execution_count": 53,
   "metadata": {
    "ExecuteTime": {
     "end_time": "2024-05-24T07:37:45.992885Z",
     "start_time": "2024-05-24T07:37:45.870303Z"
    }
   },
   "outputs": [
    {
     "name": "stderr",
     "output_type": "stream",
     "text": [
      "INFO:pypsa.io:Exported network 'network-new.nc' contains: generators, carriers, storage_units, buses, loads, global_constraints\n"
     ]
    },
    {
     "data": {
      "text/html": [
       "<div><svg style=\"position: absolute; width: 0; height: 0; overflow: hidden\">\n",
       "<defs>\n",
       "<symbol id=\"icon-database\" viewBox=\"0 0 32 32\">\n",
       "<path d=\"M16 0c-8.837 0-16 2.239-16 5v4c0 2.761 7.163 5 16 5s16-2.239 16-5v-4c0-2.761-7.163-5-16-5z\"></path>\n",
       "<path d=\"M16 17c-8.837 0-16-2.239-16-5v6c0 2.761 7.163 5 16 5s16-2.239 16-5v-6c0 2.761-7.163 5-16 5z\"></path>\n",
       "<path d=\"M16 26c-8.837 0-16-2.239-16-5v6c0 2.761 7.163 5 16 5s16-2.239 16-5v-6c0 2.761-7.163 5-16 5z\"></path>\n",
       "</symbol>\n",
       "<symbol id=\"icon-file-text2\" viewBox=\"0 0 32 32\">\n",
       "<path d=\"M28.681 7.159c-0.694-0.947-1.662-2.053-2.724-3.116s-2.169-2.030-3.116-2.724c-1.612-1.182-2.393-1.319-2.841-1.319h-15.5c-1.378 0-2.5 1.121-2.5 2.5v27c0 1.378 1.122 2.5 2.5 2.5h23c1.378 0 2.5-1.122 2.5-2.5v-19.5c0-0.448-0.137-1.23-1.319-2.841zM24.543 5.457c0.959 0.959 1.712 1.825 2.268 2.543h-4.811v-4.811c0.718 0.556 1.584 1.309 2.543 2.268zM28 29.5c0 0.271-0.229 0.5-0.5 0.5h-23c-0.271 0-0.5-0.229-0.5-0.5v-27c0-0.271 0.229-0.5 0.5-0.5 0 0 15.499-0 15.5 0v7c0 0.552 0.448 1 1 1h7v19.5z\"></path>\n",
       "<path d=\"M23 26h-14c-0.552 0-1-0.448-1-1s0.448-1 1-1h14c0.552 0 1 0.448 1 1s-0.448 1-1 1z\"></path>\n",
       "<path d=\"M23 22h-14c-0.552 0-1-0.448-1-1s0.448-1 1-1h14c0.552 0 1 0.448 1 1s-0.448 1-1 1z\"></path>\n",
       "<path d=\"M23 18h-14c-0.552 0-1-0.448-1-1s0.448-1 1-1h14c0.552 0 1 0.448 1 1s-0.448 1-1 1z\"></path>\n",
       "</symbol>\n",
       "</defs>\n",
       "</svg>\n",
       "<style>/* CSS stylesheet for displaying xarray objects in jupyterlab.\n",
       " *\n",
       " */\n",
       "\n",
       ":root {\n",
       "  --xr-font-color0: var(--jp-content-font-color0, rgba(0, 0, 0, 1));\n",
       "  --xr-font-color2: var(--jp-content-font-color2, rgba(0, 0, 0, 0.54));\n",
       "  --xr-font-color3: var(--jp-content-font-color3, rgba(0, 0, 0, 0.38));\n",
       "  --xr-border-color: var(--jp-border-color2, #e0e0e0);\n",
       "  --xr-disabled-color: var(--jp-layout-color3, #bdbdbd);\n",
       "  --xr-background-color: var(--jp-layout-color0, white);\n",
       "  --xr-background-color-row-even: var(--jp-layout-color1, white);\n",
       "  --xr-background-color-row-odd: var(--jp-layout-color2, #eeeeee);\n",
       "}\n",
       "\n",
       "html[theme=dark],\n",
       "html[data-theme=dark],\n",
       "body[data-theme=dark],\n",
       "body.vscode-dark {\n",
       "  --xr-font-color0: rgba(255, 255, 255, 1);\n",
       "  --xr-font-color2: rgba(255, 255, 255, 0.54);\n",
       "  --xr-font-color3: rgba(255, 255, 255, 0.38);\n",
       "  --xr-border-color: #1F1F1F;\n",
       "  --xr-disabled-color: #515151;\n",
       "  --xr-background-color: #111111;\n",
       "  --xr-background-color-row-even: #111111;\n",
       "  --xr-background-color-row-odd: #313131;\n",
       "}\n",
       "\n",
       ".xr-wrap {\n",
       "  display: block !important;\n",
       "  min-width: 300px;\n",
       "  max-width: 700px;\n",
       "}\n",
       "\n",
       ".xr-text-repr-fallback {\n",
       "  /* fallback to plain text repr when CSS is not injected (untrusted notebook) */\n",
       "  display: none;\n",
       "}\n",
       "\n",
       ".xr-header {\n",
       "  padding-top: 6px;\n",
       "  padding-bottom: 6px;\n",
       "  margin-bottom: 4px;\n",
       "  border-bottom: solid 1px var(--xr-border-color);\n",
       "}\n",
       "\n",
       ".xr-header > div,\n",
       ".xr-header > ul {\n",
       "  display: inline;\n",
       "  margin-top: 0;\n",
       "  margin-bottom: 0;\n",
       "}\n",
       "\n",
       ".xr-obj-type,\n",
       ".xr-array-name {\n",
       "  margin-left: 2px;\n",
       "  margin-right: 10px;\n",
       "}\n",
       "\n",
       ".xr-obj-type {\n",
       "  color: var(--xr-font-color2);\n",
       "}\n",
       "\n",
       ".xr-sections {\n",
       "  padding-left: 0 !important;\n",
       "  display: grid;\n",
       "  grid-template-columns: 150px auto auto 1fr 0 20px 0 20px;\n",
       "}\n",
       "\n",
       ".xr-section-item {\n",
       "  display: contents;\n",
       "}\n",
       "\n",
       ".xr-section-item input {\n",
       "  display: inline-block;\n",
       "  opacity: 0;\n",
       "}\n",
       "\n",
       ".xr-section-item input + label {\n",
       "  color: var(--xr-disabled-color);\n",
       "}\n",
       "\n",
       ".xr-section-item input:enabled + label {\n",
       "  cursor: pointer;\n",
       "  color: var(--xr-font-color2);\n",
       "}\n",
       "\n",
       ".xr-section-item input:focus + label {\n",
       "  border: 2px solid var(--xr-font-color0);\n",
       "}\n",
       "\n",
       ".xr-section-item input:enabled + label:hover {\n",
       "  color: var(--xr-font-color0);\n",
       "}\n",
       "\n",
       ".xr-section-summary {\n",
       "  grid-column: 1;\n",
       "  color: var(--xr-font-color2);\n",
       "  font-weight: 500;\n",
       "}\n",
       "\n",
       ".xr-section-summary > span {\n",
       "  display: inline-block;\n",
       "  padding-left: 0.5em;\n",
       "}\n",
       "\n",
       ".xr-section-summary-in:disabled + label {\n",
       "  color: var(--xr-font-color2);\n",
       "}\n",
       "\n",
       ".xr-section-summary-in + label:before {\n",
       "  display: inline-block;\n",
       "  content: '►';\n",
       "  font-size: 11px;\n",
       "  width: 15px;\n",
       "  text-align: center;\n",
       "}\n",
       "\n",
       ".xr-section-summary-in:disabled + label:before {\n",
       "  color: var(--xr-disabled-color);\n",
       "}\n",
       "\n",
       ".xr-section-summary-in:checked + label:before {\n",
       "  content: '▼';\n",
       "}\n",
       "\n",
       ".xr-section-summary-in:checked + label > span {\n",
       "  display: none;\n",
       "}\n",
       "\n",
       ".xr-section-summary,\n",
       ".xr-section-inline-details {\n",
       "  padding-top: 4px;\n",
       "  padding-bottom: 4px;\n",
       "}\n",
       "\n",
       ".xr-section-inline-details {\n",
       "  grid-column: 2 / -1;\n",
       "}\n",
       "\n",
       ".xr-section-details {\n",
       "  display: none;\n",
       "  grid-column: 1 / -1;\n",
       "  margin-bottom: 5px;\n",
       "}\n",
       "\n",
       ".xr-section-summary-in:checked ~ .xr-section-details {\n",
       "  display: contents;\n",
       "}\n",
       "\n",
       ".xr-array-wrap {\n",
       "  grid-column: 1 / -1;\n",
       "  display: grid;\n",
       "  grid-template-columns: 20px auto;\n",
       "}\n",
       "\n",
       ".xr-array-wrap > label {\n",
       "  grid-column: 1;\n",
       "  vertical-align: top;\n",
       "}\n",
       "\n",
       ".xr-preview {\n",
       "  color: var(--xr-font-color3);\n",
       "}\n",
       "\n",
       ".xr-array-preview,\n",
       ".xr-array-data {\n",
       "  padding: 0 5px !important;\n",
       "  grid-column: 2;\n",
       "}\n",
       "\n",
       ".xr-array-data,\n",
       ".xr-array-in:checked ~ .xr-array-preview {\n",
       "  display: none;\n",
       "}\n",
       "\n",
       ".xr-array-in:checked ~ .xr-array-data,\n",
       ".xr-array-preview {\n",
       "  display: inline-block;\n",
       "}\n",
       "\n",
       ".xr-dim-list {\n",
       "  display: inline-block !important;\n",
       "  list-style: none;\n",
       "  padding: 0 !important;\n",
       "  margin: 0;\n",
       "}\n",
       "\n",
       ".xr-dim-list li {\n",
       "  display: inline-block;\n",
       "  padding: 0;\n",
       "  margin: 0;\n",
       "}\n",
       "\n",
       ".xr-dim-list:before {\n",
       "  content: '(';\n",
       "}\n",
       "\n",
       ".xr-dim-list:after {\n",
       "  content: ')';\n",
       "}\n",
       "\n",
       ".xr-dim-list li:not(:last-child):after {\n",
       "  content: ',';\n",
       "  padding-right: 5px;\n",
       "}\n",
       "\n",
       ".xr-has-index {\n",
       "  font-weight: bold;\n",
       "}\n",
       "\n",
       ".xr-var-list,\n",
       ".xr-var-item {\n",
       "  display: contents;\n",
       "}\n",
       "\n",
       ".xr-var-item > div,\n",
       ".xr-var-item label,\n",
       ".xr-var-item > .xr-var-name span {\n",
       "  background-color: var(--xr-background-color-row-even);\n",
       "  margin-bottom: 0;\n",
       "}\n",
       "\n",
       ".xr-var-item > .xr-var-name:hover span {\n",
       "  padding-right: 5px;\n",
       "}\n",
       "\n",
       ".xr-var-list > li:nth-child(odd) > div,\n",
       ".xr-var-list > li:nth-child(odd) > label,\n",
       ".xr-var-list > li:nth-child(odd) > .xr-var-name span {\n",
       "  background-color: var(--xr-background-color-row-odd);\n",
       "}\n",
       "\n",
       ".xr-var-name {\n",
       "  grid-column: 1;\n",
       "}\n",
       "\n",
       ".xr-var-dims {\n",
       "  grid-column: 2;\n",
       "}\n",
       "\n",
       ".xr-var-dtype {\n",
       "  grid-column: 3;\n",
       "  text-align: right;\n",
       "  color: var(--xr-font-color2);\n",
       "}\n",
       "\n",
       ".xr-var-preview {\n",
       "  grid-column: 4;\n",
       "}\n",
       "\n",
       ".xr-index-preview {\n",
       "  grid-column: 2 / 5;\n",
       "  color: var(--xr-font-color2);\n",
       "}\n",
       "\n",
       ".xr-var-name,\n",
       ".xr-var-dims,\n",
       ".xr-var-dtype,\n",
       ".xr-preview,\n",
       ".xr-attrs dt {\n",
       "  white-space: nowrap;\n",
       "  overflow: hidden;\n",
       "  text-overflow: ellipsis;\n",
       "  padding-right: 10px;\n",
       "}\n",
       "\n",
       ".xr-var-name:hover,\n",
       ".xr-var-dims:hover,\n",
       ".xr-var-dtype:hover,\n",
       ".xr-attrs dt:hover {\n",
       "  overflow: visible;\n",
       "  width: auto;\n",
       "  z-index: 1;\n",
       "}\n",
       "\n",
       ".xr-var-attrs,\n",
       ".xr-var-data,\n",
       ".xr-index-data {\n",
       "  display: none;\n",
       "  background-color: var(--xr-background-color) !important;\n",
       "  padding-bottom: 5px !important;\n",
       "}\n",
       "\n",
       ".xr-var-attrs-in:checked ~ .xr-var-attrs,\n",
       ".xr-var-data-in:checked ~ .xr-var-data,\n",
       ".xr-index-data-in:checked ~ .xr-index-data {\n",
       "  display: block;\n",
       "}\n",
       "\n",
       ".xr-var-data > table {\n",
       "  float: right;\n",
       "}\n",
       "\n",
       ".xr-var-name span,\n",
       ".xr-var-data,\n",
       ".xr-index-name div,\n",
       ".xr-index-data,\n",
       ".xr-attrs {\n",
       "  padding-left: 25px !important;\n",
       "}\n",
       "\n",
       ".xr-attrs,\n",
       ".xr-var-attrs,\n",
       ".xr-var-data,\n",
       ".xr-index-data {\n",
       "  grid-column: 1 / -1;\n",
       "}\n",
       "\n",
       "dl.xr-attrs {\n",
       "  padding: 0;\n",
       "  margin: 0;\n",
       "  display: grid;\n",
       "  grid-template-columns: 125px auto;\n",
       "}\n",
       "\n",
       ".xr-attrs dt,\n",
       ".xr-attrs dd {\n",
       "  padding: 0;\n",
       "  margin: 0;\n",
       "  float: left;\n",
       "  padding-right: 10px;\n",
       "  width: auto;\n",
       "}\n",
       "\n",
       ".xr-attrs dt {\n",
       "  font-weight: normal;\n",
       "  grid-column: 1;\n",
       "}\n",
       "\n",
       ".xr-attrs dt:hover span {\n",
       "  display: inline-block;\n",
       "  background: var(--xr-background-color);\n",
       "  padding-right: 10px;\n",
       "}\n",
       "\n",
       ".xr-attrs dd {\n",
       "  grid-column: 2;\n",
       "  white-space: pre-wrap;\n",
       "  word-break: break-all;\n",
       "}\n",
       "\n",
       ".xr-icon-database,\n",
       ".xr-icon-file-text2,\n",
       ".xr-no-icon {\n",
       "  display: inline-block;\n",
       "  vertical-align: middle;\n",
       "  width: 1em;\n",
       "  height: 1.5em !important;\n",
       "  stroke-width: 0;\n",
       "  stroke: currentColor;\n",
       "  fill: currentColor;\n",
       "}\n",
       "</style><pre class='xr-text-repr-fallback'>&lt;xarray.Dataset&gt; Size: 404kB\n",
       "Dimensions:                               (snapshots: 2190,\n",
       "                                           investment_periods: 0,\n",
       "                                           generators_i: 4,\n",
       "                                           generators_t_p_max_pu_i: 3,\n",
       "                                           generators_t_p_i: 3, carriers_i: 6,\n",
       "                                           storage_units_i: 2,\n",
       "                                           ...\n",
       "                                           storage_units_t_state_of_charge_i: 2,\n",
       "                                           buses_i: 1, buses_t_p_i: 1,\n",
       "                                           buses_t_marginal_price_i: 1,\n",
       "                                           loads_i: 1, loads_t_p_set_i: 1,\n",
       "                                           loads_t_p_i: 1,\n",
       "                                           global_constraints_i: 1)\n",
       "Coordinates: (12/18)\n",
       "  * snapshots                             (snapshots) int64 18kB 0 1 ... 2189\n",
       "  * investment_periods                    (investment_periods) int64 0B \n",
       "  * generators_i                          (generators_i) object 32B &#x27;OCGT&#x27; .....\n",
       "  * generators_t_p_max_pu_i               (generators_t_p_max_pu_i) object 24B ...\n",
       "  * generators_t_p_i                      (generators_t_p_i) object 24B &#x27;onwi...\n",
       "  * carriers_i                            (carriers_i) object 48B &#x27;onwind&#x27; .....\n",
       "    ...                                    ...\n",
       "  * buses_t_p_i                           (buses_t_p_i) object 8B &#x27;electricity&#x27;\n",
       "  * buses_t_marginal_price_i              (buses_t_marginal_price_i) object 8B ...\n",
       "  * loads_i                               (loads_i) object 8B &#x27;demand&#x27;\n",
       "  * loads_t_p_set_i                       (loads_t_p_set_i) object 8B &#x27;demand&#x27;\n",
       "  * loads_t_p_i                           (loads_t_p_i) object 8B &#x27;demand&#x27;\n",
       "  * global_constraints_i                  (global_constraints_i) object 8B &#x27;C...\n",
       "Data variables: (12/43)\n",
       "    snapshots_snapshot                    (snapshots) datetime64[ns] 18kB 201...\n",
       "    snapshots_objective                   (snapshots) float64 18kB 4.0 ... 4.0\n",
       "    snapshots_stores                      (snapshots) float64 18kB 4.0 ... 4.0\n",
       "    snapshots_generators                  (snapshots) float64 18kB 4.0 ... 4.0\n",
       "    investment_periods_objective          (investment_periods) object 0B \n",
       "    investment_periods_years              (investment_periods) object 0B \n",
       "    ...                                    ...\n",
       "    buses_t_marginal_price                (snapshots, buses_t_marginal_price_i) float64 18kB ...\n",
       "    loads_bus                             (loads_i) object 8B &#x27;electricity&#x27;\n",
       "    loads_t_p_set                         (snapshots, loads_t_p_set_i) float64 18kB ...\n",
       "    loads_t_p                             (snapshots, loads_t_p_i) float64 18kB ...\n",
       "    global_constraints_sense              (global_constraints_i) object 8B &#x27;&lt;=&#x27;\n",
       "    global_constraints_mu                 (global_constraints_i) float64 8B -...\n",
       "Attributes:\n",
       "    network__linearized_uc:      0\n",
       "    network__multi_invest:       0\n",
       "    network_name:                \n",
       "    network_objective:           79406619874.64291\n",
       "    network_objective_constant:  0.0\n",
       "    network_pypsa_version:       0.31.1\n",
       "    network_srid:                4326\n",
       "    crs:                         {&quot;_crs&quot;: &quot;GEOGCRS[\\&quot;WGS 84\\&quot;,ENSEMBLE[\\&quot;Worl...\n",
       "    meta:                        {}</pre><div class='xr-wrap' style='display:none'><div class='xr-header'><div class='xr-obj-type'>xarray.Dataset</div></div><ul class='xr-sections'><li class='xr-section-item'><input id='section-bc2091ed-f973-4a4f-b7a1-f855b7e4ae43' class='xr-section-summary-in' type='checkbox' disabled ><label for='section-bc2091ed-f973-4a4f-b7a1-f855b7e4ae43' class='xr-section-summary'  title='Expand/collapse section'>Dimensions:</label><div class='xr-section-inline-details'><ul class='xr-dim-list'><li><span class='xr-has-index'>snapshots</span>: 2190</li><li><span class='xr-has-index'>investment_periods</span>: 0</li><li><span class='xr-has-index'>generators_i</span>: 4</li><li><span class='xr-has-index'>generators_t_p_max_pu_i</span>: 3</li><li><span class='xr-has-index'>generators_t_p_i</span>: 3</li><li><span class='xr-has-index'>carriers_i</span>: 6</li><li><span class='xr-has-index'>storage_units_i</span>: 2</li><li><span class='xr-has-index'>storage_units_t_p_i</span>: 2</li><li><span class='xr-has-index'>storage_units_t_p_dispatch_i</span>: 2</li><li><span class='xr-has-index'>storage_units_t_p_store_i</span>: 2</li><li><span class='xr-has-index'>storage_units_t_state_of_charge_i</span>: 2</li><li><span class='xr-has-index'>buses_i</span>: 1</li><li><span class='xr-has-index'>buses_t_p_i</span>: 1</li><li><span class='xr-has-index'>buses_t_marginal_price_i</span>: 1</li><li><span class='xr-has-index'>loads_i</span>: 1</li><li><span class='xr-has-index'>loads_t_p_set_i</span>: 1</li><li><span class='xr-has-index'>loads_t_p_i</span>: 1</li><li><span class='xr-has-index'>global_constraints_i</span>: 1</li></ul></div><div class='xr-section-details'></div></li><li class='xr-section-item'><input id='section-b450a7de-cdde-4a9e-969a-21c8473805cf' class='xr-section-summary-in' type='checkbox'  checked><label for='section-b450a7de-cdde-4a9e-969a-21c8473805cf' class='xr-section-summary' >Coordinates: <span>(18)</span></label><div class='xr-section-inline-details'></div><div class='xr-section-details'><ul class='xr-var-list'><li class='xr-var-item'><div class='xr-var-name'><span class='xr-has-index'>snapshots</span></div><div class='xr-var-dims'>(snapshots)</div><div class='xr-var-dtype'>int64</div><div class='xr-var-preview xr-preview'>0 1 2 3 4 ... 2186 2187 2188 2189</div><input id='attrs-ed3b1a3c-cc09-48d4-b12a-d098810dfad2' class='xr-var-attrs-in' type='checkbox' disabled><label for='attrs-ed3b1a3c-cc09-48d4-b12a-d098810dfad2' title='Show/Hide attributes'><svg class='icon xr-icon-file-text2'><use xlink:href='#icon-file-text2'></use></svg></label><input id='data-836f4112-cf1c-47e6-96a4-704061f38a41' class='xr-var-data-in' type='checkbox'><label for='data-836f4112-cf1c-47e6-96a4-704061f38a41' title='Show/Hide data repr'><svg class='icon xr-icon-database'><use xlink:href='#icon-database'></use></svg></label><div class='xr-var-attrs'><dl class='xr-attrs'></dl></div><div class='xr-var-data'><pre>array([   0,    1,    2, ..., 2187, 2188, 2189], dtype=int64)</pre></div></li><li class='xr-var-item'><div class='xr-var-name'><span class='xr-has-index'>investment_periods</span></div><div class='xr-var-dims'>(investment_periods)</div><div class='xr-var-dtype'>int64</div><div class='xr-var-preview xr-preview'></div><input id='attrs-9da0a252-d11f-43d8-8eab-f77b40fe4a43' class='xr-var-attrs-in' type='checkbox' disabled><label for='attrs-9da0a252-d11f-43d8-8eab-f77b40fe4a43' title='Show/Hide attributes'><svg class='icon xr-icon-file-text2'><use xlink:href='#icon-file-text2'></use></svg></label><input id='data-f35c56b5-3e25-4668-8ef1-07b9afc22ebe' class='xr-var-data-in' type='checkbox'><label for='data-f35c56b5-3e25-4668-8ef1-07b9afc22ebe' title='Show/Hide data repr'><svg class='icon xr-icon-database'><use xlink:href='#icon-database'></use></svg></label><div class='xr-var-attrs'><dl class='xr-attrs'></dl></div><div class='xr-var-data'><pre>array([], dtype=int64)</pre></div></li><li class='xr-var-item'><div class='xr-var-name'><span class='xr-has-index'>generators_i</span></div><div class='xr-var-dims'>(generators_i)</div><div class='xr-var-dtype'>object</div><div class='xr-var-preview xr-preview'>&#x27;OCGT&#x27; &#x27;onwind&#x27; &#x27;offwind&#x27; &#x27;solar&#x27;</div><input id='attrs-f18c8e35-e61f-4545-94de-70732da06932' class='xr-var-attrs-in' type='checkbox' disabled><label for='attrs-f18c8e35-e61f-4545-94de-70732da06932' title='Show/Hide attributes'><svg class='icon xr-icon-file-text2'><use xlink:href='#icon-file-text2'></use></svg></label><input id='data-e26462d5-bd16-44e3-853a-1bff81aa647a' class='xr-var-data-in' type='checkbox'><label for='data-e26462d5-bd16-44e3-853a-1bff81aa647a' title='Show/Hide data repr'><svg class='icon xr-icon-database'><use xlink:href='#icon-database'></use></svg></label><div class='xr-var-attrs'><dl class='xr-attrs'></dl></div><div class='xr-var-data'><pre>array([&#x27;OCGT&#x27;, &#x27;onwind&#x27;, &#x27;offwind&#x27;, &#x27;solar&#x27;], dtype=object)</pre></div></li><li class='xr-var-item'><div class='xr-var-name'><span class='xr-has-index'>generators_t_p_max_pu_i</span></div><div class='xr-var-dims'>(generators_t_p_max_pu_i)</div><div class='xr-var-dtype'>object</div><div class='xr-var-preview xr-preview'>&#x27;offwind&#x27; &#x27;onwind&#x27; &#x27;solar&#x27;</div><input id='attrs-65af5422-dd21-440a-8b1d-e17f1ca8a81a' class='xr-var-attrs-in' type='checkbox' disabled><label for='attrs-65af5422-dd21-440a-8b1d-e17f1ca8a81a' title='Show/Hide attributes'><svg class='icon xr-icon-file-text2'><use xlink:href='#icon-file-text2'></use></svg></label><input id='data-451457e3-fd90-47fc-ad13-64f9c30a09a0' class='xr-var-data-in' type='checkbox'><label for='data-451457e3-fd90-47fc-ad13-64f9c30a09a0' title='Show/Hide data repr'><svg class='icon xr-icon-database'><use xlink:href='#icon-database'></use></svg></label><div class='xr-var-attrs'><dl class='xr-attrs'></dl></div><div class='xr-var-data'><pre>array([&#x27;offwind&#x27;, &#x27;onwind&#x27;, &#x27;solar&#x27;], dtype=object)</pre></div></li><li class='xr-var-item'><div class='xr-var-name'><span class='xr-has-index'>generators_t_p_i</span></div><div class='xr-var-dims'>(generators_t_p_i)</div><div class='xr-var-dtype'>object</div><div class='xr-var-preview xr-preview'>&#x27;onwind&#x27; &#x27;offwind&#x27; &#x27;solar&#x27;</div><input id='attrs-2b6eee7c-dc0a-43ad-bd41-e1bd05c10797' class='xr-var-attrs-in' type='checkbox' disabled><label for='attrs-2b6eee7c-dc0a-43ad-bd41-e1bd05c10797' title='Show/Hide attributes'><svg class='icon xr-icon-file-text2'><use xlink:href='#icon-file-text2'></use></svg></label><input id='data-affb4c49-8c21-47b9-b5bb-e97a01eb02a2' class='xr-var-data-in' type='checkbox'><label for='data-affb4c49-8c21-47b9-b5bb-e97a01eb02a2' title='Show/Hide data repr'><svg class='icon xr-icon-database'><use xlink:href='#icon-database'></use></svg></label><div class='xr-var-attrs'><dl class='xr-attrs'></dl></div><div class='xr-var-data'><pre>array([&#x27;onwind&#x27;, &#x27;offwind&#x27;, &#x27;solar&#x27;], dtype=object)</pre></div></li><li class='xr-var-item'><div class='xr-var-name'><span class='xr-has-index'>carriers_i</span></div><div class='xr-var-dims'>(carriers_i)</div><div class='xr-var-dtype'>object</div><div class='xr-var-preview xr-preview'>&#x27;onwind&#x27; ... &#x27;battery storage&#x27;</div><input id='attrs-28bad065-1736-43cb-8757-29c68028226a' class='xr-var-attrs-in' type='checkbox' disabled><label for='attrs-28bad065-1736-43cb-8757-29c68028226a' title='Show/Hide attributes'><svg class='icon xr-icon-file-text2'><use xlink:href='#icon-file-text2'></use></svg></label><input id='data-2bf4d646-92dc-4078-8fed-051efb810b8a' class='xr-var-data-in' type='checkbox'><label for='data-2bf4d646-92dc-4078-8fed-051efb810b8a' title='Show/Hide data repr'><svg class='icon xr-icon-database'><use xlink:href='#icon-database'></use></svg></label><div class='xr-var-attrs'><dl class='xr-attrs'></dl></div><div class='xr-var-data'><pre>array([&#x27;onwind&#x27;, &#x27;offwind&#x27;, &#x27;solar&#x27;, &#x27;OCGT&#x27;, &#x27;hydrogen storage underground&#x27;,\n",
       "       &#x27;battery storage&#x27;], dtype=object)</pre></div></li><li class='xr-var-item'><div class='xr-var-name'><span class='xr-has-index'>storage_units_i</span></div><div class='xr-var-dims'>(storage_units_i)</div><div class='xr-var-dtype'>object</div><div class='xr-var-preview xr-preview'>&#x27;battery storage&#x27; &#x27;hydrogen stor...</div><input id='attrs-30810bcb-7b8c-47cd-aa95-f26734c49915' class='xr-var-attrs-in' type='checkbox' disabled><label for='attrs-30810bcb-7b8c-47cd-aa95-f26734c49915' title='Show/Hide attributes'><svg class='icon xr-icon-file-text2'><use xlink:href='#icon-file-text2'></use></svg></label><input id='data-5137c329-6a2d-446d-aa31-a7f13da1f371' class='xr-var-data-in' type='checkbox'><label for='data-5137c329-6a2d-446d-aa31-a7f13da1f371' title='Show/Hide data repr'><svg class='icon xr-icon-database'><use xlink:href='#icon-database'></use></svg></label><div class='xr-var-attrs'><dl class='xr-attrs'></dl></div><div class='xr-var-data'><pre>array([&#x27;battery storage&#x27;, &#x27;hydrogen storage underground&#x27;], dtype=object)</pre></div></li><li class='xr-var-item'><div class='xr-var-name'><span class='xr-has-index'>storage_units_t_p_i</span></div><div class='xr-var-dims'>(storage_units_t_p_i)</div><div class='xr-var-dtype'>object</div><div class='xr-var-preview xr-preview'>&#x27;battery storage&#x27; &#x27;hydrogen stor...</div><input id='attrs-1b17db70-d607-41d4-8006-06cfa621efc7' class='xr-var-attrs-in' type='checkbox' disabled><label for='attrs-1b17db70-d607-41d4-8006-06cfa621efc7' title='Show/Hide attributes'><svg class='icon xr-icon-file-text2'><use xlink:href='#icon-file-text2'></use></svg></label><input id='data-a7415721-bf4e-47e9-a0d6-9b811f60d7a7' class='xr-var-data-in' type='checkbox'><label for='data-a7415721-bf4e-47e9-a0d6-9b811f60d7a7' title='Show/Hide data repr'><svg class='icon xr-icon-database'><use xlink:href='#icon-database'></use></svg></label><div class='xr-var-attrs'><dl class='xr-attrs'></dl></div><div class='xr-var-data'><pre>array([&#x27;battery storage&#x27;, &#x27;hydrogen storage underground&#x27;], dtype=object)</pre></div></li><li class='xr-var-item'><div class='xr-var-name'><span class='xr-has-index'>storage_units_t_p_dispatch_i</span></div><div class='xr-var-dims'>(storage_units_t_p_dispatch_i)</div><div class='xr-var-dtype'>object</div><div class='xr-var-preview xr-preview'>&#x27;battery storage&#x27; &#x27;hydrogen stor...</div><input id='attrs-3ba29d91-4b5f-47f3-928d-fa8457739b90' class='xr-var-attrs-in' type='checkbox' disabled><label for='attrs-3ba29d91-4b5f-47f3-928d-fa8457739b90' title='Show/Hide attributes'><svg class='icon xr-icon-file-text2'><use xlink:href='#icon-file-text2'></use></svg></label><input id='data-36060b98-f9de-4b81-9c89-d7630d0301fc' class='xr-var-data-in' type='checkbox'><label for='data-36060b98-f9de-4b81-9c89-d7630d0301fc' title='Show/Hide data repr'><svg class='icon xr-icon-database'><use xlink:href='#icon-database'></use></svg></label><div class='xr-var-attrs'><dl class='xr-attrs'></dl></div><div class='xr-var-data'><pre>array([&#x27;battery storage&#x27;, &#x27;hydrogen storage underground&#x27;], dtype=object)</pre></div></li><li class='xr-var-item'><div class='xr-var-name'><span class='xr-has-index'>storage_units_t_p_store_i</span></div><div class='xr-var-dims'>(storage_units_t_p_store_i)</div><div class='xr-var-dtype'>object</div><div class='xr-var-preview xr-preview'>&#x27;battery storage&#x27; &#x27;hydrogen stor...</div><input id='attrs-6f186646-b57d-4c8b-b4c8-8385cb12ae97' class='xr-var-attrs-in' type='checkbox' disabled><label for='attrs-6f186646-b57d-4c8b-b4c8-8385cb12ae97' title='Show/Hide attributes'><svg class='icon xr-icon-file-text2'><use xlink:href='#icon-file-text2'></use></svg></label><input id='data-65d5d1eb-c49a-409b-bd60-9b300389b4bd' class='xr-var-data-in' type='checkbox'><label for='data-65d5d1eb-c49a-409b-bd60-9b300389b4bd' title='Show/Hide data repr'><svg class='icon xr-icon-database'><use xlink:href='#icon-database'></use></svg></label><div class='xr-var-attrs'><dl class='xr-attrs'></dl></div><div class='xr-var-data'><pre>array([&#x27;battery storage&#x27;, &#x27;hydrogen storage underground&#x27;], dtype=object)</pre></div></li><li class='xr-var-item'><div class='xr-var-name'><span class='xr-has-index'>storage_units_t_state_of_charge_i</span></div><div class='xr-var-dims'>(storage_units_t_state_of_charge_i)</div><div class='xr-var-dtype'>object</div><div class='xr-var-preview xr-preview'>&#x27;battery storage&#x27; &#x27;hydrogen stor...</div><input id='attrs-85e3198f-25f8-4780-8b50-19c475f547ac' class='xr-var-attrs-in' type='checkbox' disabled><label for='attrs-85e3198f-25f8-4780-8b50-19c475f547ac' title='Show/Hide attributes'><svg class='icon xr-icon-file-text2'><use xlink:href='#icon-file-text2'></use></svg></label><input id='data-e698faa9-4323-4531-b8de-40bcd35ccdff' class='xr-var-data-in' type='checkbox'><label for='data-e698faa9-4323-4531-b8de-40bcd35ccdff' title='Show/Hide data repr'><svg class='icon xr-icon-database'><use xlink:href='#icon-database'></use></svg></label><div class='xr-var-attrs'><dl class='xr-attrs'></dl></div><div class='xr-var-data'><pre>array([&#x27;battery storage&#x27;, &#x27;hydrogen storage underground&#x27;], dtype=object)</pre></div></li><li class='xr-var-item'><div class='xr-var-name'><span class='xr-has-index'>buses_i</span></div><div class='xr-var-dims'>(buses_i)</div><div class='xr-var-dtype'>object</div><div class='xr-var-preview xr-preview'>&#x27;electricity&#x27;</div><input id='attrs-e20342e0-9ed5-4b97-8653-9e16ad4858c0' class='xr-var-attrs-in' type='checkbox' disabled><label for='attrs-e20342e0-9ed5-4b97-8653-9e16ad4858c0' title='Show/Hide attributes'><svg class='icon xr-icon-file-text2'><use xlink:href='#icon-file-text2'></use></svg></label><input id='data-ce941147-b8c7-41a6-a02c-dd1d37a7e6c6' class='xr-var-data-in' type='checkbox'><label for='data-ce941147-b8c7-41a6-a02c-dd1d37a7e6c6' title='Show/Hide data repr'><svg class='icon xr-icon-database'><use xlink:href='#icon-database'></use></svg></label><div class='xr-var-attrs'><dl class='xr-attrs'></dl></div><div class='xr-var-data'><pre>array([&#x27;electricity&#x27;], dtype=object)</pre></div></li><li class='xr-var-item'><div class='xr-var-name'><span class='xr-has-index'>buses_t_p_i</span></div><div class='xr-var-dims'>(buses_t_p_i)</div><div class='xr-var-dtype'>object</div><div class='xr-var-preview xr-preview'>&#x27;electricity&#x27;</div><input id='attrs-a266736b-445c-4525-9330-b6dd025271e6' class='xr-var-attrs-in' type='checkbox' disabled><label for='attrs-a266736b-445c-4525-9330-b6dd025271e6' title='Show/Hide attributes'><svg class='icon xr-icon-file-text2'><use xlink:href='#icon-file-text2'></use></svg></label><input id='data-223363e3-348d-4ad3-a7ae-6251efdb6303' class='xr-var-data-in' type='checkbox'><label for='data-223363e3-348d-4ad3-a7ae-6251efdb6303' title='Show/Hide data repr'><svg class='icon xr-icon-database'><use xlink:href='#icon-database'></use></svg></label><div class='xr-var-attrs'><dl class='xr-attrs'></dl></div><div class='xr-var-data'><pre>array([&#x27;electricity&#x27;], dtype=object)</pre></div></li><li class='xr-var-item'><div class='xr-var-name'><span class='xr-has-index'>buses_t_marginal_price_i</span></div><div class='xr-var-dims'>(buses_t_marginal_price_i)</div><div class='xr-var-dtype'>object</div><div class='xr-var-preview xr-preview'>&#x27;electricity&#x27;</div><input id='attrs-097031ec-525b-4753-802f-0a24f0c676aa' class='xr-var-attrs-in' type='checkbox' disabled><label for='attrs-097031ec-525b-4753-802f-0a24f0c676aa' title='Show/Hide attributes'><svg class='icon xr-icon-file-text2'><use xlink:href='#icon-file-text2'></use></svg></label><input id='data-4733c520-b00d-4834-b57f-94c235f7293c' class='xr-var-data-in' type='checkbox'><label for='data-4733c520-b00d-4834-b57f-94c235f7293c' title='Show/Hide data repr'><svg class='icon xr-icon-database'><use xlink:href='#icon-database'></use></svg></label><div class='xr-var-attrs'><dl class='xr-attrs'></dl></div><div class='xr-var-data'><pre>array([&#x27;electricity&#x27;], dtype=object)</pre></div></li><li class='xr-var-item'><div class='xr-var-name'><span class='xr-has-index'>loads_i</span></div><div class='xr-var-dims'>(loads_i)</div><div class='xr-var-dtype'>object</div><div class='xr-var-preview xr-preview'>&#x27;demand&#x27;</div><input id='attrs-5c4dffc0-254c-4d8f-b257-f6a87b969bc7' class='xr-var-attrs-in' type='checkbox' disabled><label for='attrs-5c4dffc0-254c-4d8f-b257-f6a87b969bc7' title='Show/Hide attributes'><svg class='icon xr-icon-file-text2'><use xlink:href='#icon-file-text2'></use></svg></label><input id='data-132f9782-9ece-4bad-a54b-0d19e35619f5' class='xr-var-data-in' type='checkbox'><label for='data-132f9782-9ece-4bad-a54b-0d19e35619f5' title='Show/Hide data repr'><svg class='icon xr-icon-database'><use xlink:href='#icon-database'></use></svg></label><div class='xr-var-attrs'><dl class='xr-attrs'></dl></div><div class='xr-var-data'><pre>array([&#x27;demand&#x27;], dtype=object)</pre></div></li><li class='xr-var-item'><div class='xr-var-name'><span class='xr-has-index'>loads_t_p_set_i</span></div><div class='xr-var-dims'>(loads_t_p_set_i)</div><div class='xr-var-dtype'>object</div><div class='xr-var-preview xr-preview'>&#x27;demand&#x27;</div><input id='attrs-35a5d185-9f02-4320-bfbc-db2a975660f4' class='xr-var-attrs-in' type='checkbox' disabled><label for='attrs-35a5d185-9f02-4320-bfbc-db2a975660f4' title='Show/Hide attributes'><svg class='icon xr-icon-file-text2'><use xlink:href='#icon-file-text2'></use></svg></label><input id='data-33473f84-6144-4433-aedf-7e306d487647' class='xr-var-data-in' type='checkbox'><label for='data-33473f84-6144-4433-aedf-7e306d487647' title='Show/Hide data repr'><svg class='icon xr-icon-database'><use xlink:href='#icon-database'></use></svg></label><div class='xr-var-attrs'><dl class='xr-attrs'></dl></div><div class='xr-var-data'><pre>array([&#x27;demand&#x27;], dtype=object)</pre></div></li><li class='xr-var-item'><div class='xr-var-name'><span class='xr-has-index'>loads_t_p_i</span></div><div class='xr-var-dims'>(loads_t_p_i)</div><div class='xr-var-dtype'>object</div><div class='xr-var-preview xr-preview'>&#x27;demand&#x27;</div><input id='attrs-6993c80b-2527-4523-9b9e-f457a8669814' class='xr-var-attrs-in' type='checkbox' disabled><label for='attrs-6993c80b-2527-4523-9b9e-f457a8669814' title='Show/Hide attributes'><svg class='icon xr-icon-file-text2'><use xlink:href='#icon-file-text2'></use></svg></label><input id='data-65096c2f-ac3e-45b3-8a26-db23adaace60' class='xr-var-data-in' type='checkbox'><label for='data-65096c2f-ac3e-45b3-8a26-db23adaace60' title='Show/Hide data repr'><svg class='icon xr-icon-database'><use xlink:href='#icon-database'></use></svg></label><div class='xr-var-attrs'><dl class='xr-attrs'></dl></div><div class='xr-var-data'><pre>array([&#x27;demand&#x27;], dtype=object)</pre></div></li><li class='xr-var-item'><div class='xr-var-name'><span class='xr-has-index'>global_constraints_i</span></div><div class='xr-var-dims'>(global_constraints_i)</div><div class='xr-var-dtype'>object</div><div class='xr-var-preview xr-preview'>&#x27;CO2Limit&#x27;</div><input id='attrs-7881ad5c-ffa9-4a9c-9cb8-1610c919bc43' class='xr-var-attrs-in' type='checkbox' disabled><label for='attrs-7881ad5c-ffa9-4a9c-9cb8-1610c919bc43' title='Show/Hide attributes'><svg class='icon xr-icon-file-text2'><use xlink:href='#icon-file-text2'></use></svg></label><input id='data-5a7fc44a-26b3-4a4c-9715-13e6ac71f2e6' class='xr-var-data-in' type='checkbox'><label for='data-5a7fc44a-26b3-4a4c-9715-13e6ac71f2e6' title='Show/Hide data repr'><svg class='icon xr-icon-database'><use xlink:href='#icon-database'></use></svg></label><div class='xr-var-attrs'><dl class='xr-attrs'></dl></div><div class='xr-var-data'><pre>array([&#x27;CO2Limit&#x27;], dtype=object)</pre></div></li></ul></div></li><li class='xr-section-item'><input id='section-8465a206-40ee-413d-8d4f-61ab5047552c' class='xr-section-summary-in' type='checkbox'  ><label for='section-8465a206-40ee-413d-8d4f-61ab5047552c' class='xr-section-summary' >Data variables: <span>(43)</span></label><div class='xr-section-inline-details'></div><div class='xr-section-details'><ul class='xr-var-list'><li class='xr-var-item'><div class='xr-var-name'><span>snapshots_snapshot</span></div><div class='xr-var-dims'>(snapshots)</div><div class='xr-var-dtype'>datetime64[ns]</div><div class='xr-var-preview xr-preview'>2015-01-01 ... 2015-12-31T20:00:00</div><input id='attrs-e48dd5c9-5602-422e-b3fb-9989abe23036' class='xr-var-attrs-in' type='checkbox' disabled><label for='attrs-e48dd5c9-5602-422e-b3fb-9989abe23036' title='Show/Hide attributes'><svg class='icon xr-icon-file-text2'><use xlink:href='#icon-file-text2'></use></svg></label><input id='data-32741e8c-3148-44d3-9271-8bdcd9345e7d' class='xr-var-data-in' type='checkbox'><label for='data-32741e8c-3148-44d3-9271-8bdcd9345e7d' title='Show/Hide data repr'><svg class='icon xr-icon-database'><use xlink:href='#icon-database'></use></svg></label><div class='xr-var-attrs'><dl class='xr-attrs'></dl></div><div class='xr-var-data'><pre>array([&#x27;2015-01-01T00:00:00.000000000&#x27;, &#x27;2015-01-01T04:00:00.000000000&#x27;,\n",
       "       &#x27;2015-01-01T08:00:00.000000000&#x27;, ...,\n",
       "       &#x27;2015-12-31T12:00:00.000000000&#x27;, &#x27;2015-12-31T16:00:00.000000000&#x27;,\n",
       "       &#x27;2015-12-31T20:00:00.000000000&#x27;], dtype=&#x27;datetime64[ns]&#x27;)</pre></div></li><li class='xr-var-item'><div class='xr-var-name'><span>snapshots_objective</span></div><div class='xr-var-dims'>(snapshots)</div><div class='xr-var-dtype'>float64</div><div class='xr-var-preview xr-preview'>4.0 4.0 4.0 4.0 ... 4.0 4.0 4.0 4.0</div><input id='attrs-828cf648-4f28-454f-9715-ab3cbc175fb4' class='xr-var-attrs-in' type='checkbox' disabled><label for='attrs-828cf648-4f28-454f-9715-ab3cbc175fb4' title='Show/Hide attributes'><svg class='icon xr-icon-file-text2'><use xlink:href='#icon-file-text2'></use></svg></label><input id='data-6ed9fbcb-767d-49b2-81e3-fe83d1caf796' class='xr-var-data-in' type='checkbox'><label for='data-6ed9fbcb-767d-49b2-81e3-fe83d1caf796' title='Show/Hide data repr'><svg class='icon xr-icon-database'><use xlink:href='#icon-database'></use></svg></label><div class='xr-var-attrs'><dl class='xr-attrs'></dl></div><div class='xr-var-data'><pre>array([4., 4., 4., ..., 4., 4., 4.])</pre></div></li><li class='xr-var-item'><div class='xr-var-name'><span>snapshots_stores</span></div><div class='xr-var-dims'>(snapshots)</div><div class='xr-var-dtype'>float64</div><div class='xr-var-preview xr-preview'>4.0 4.0 4.0 4.0 ... 4.0 4.0 4.0 4.0</div><input id='attrs-92f12504-f1af-4499-abfb-de3a3f4642ac' class='xr-var-attrs-in' type='checkbox' disabled><label for='attrs-92f12504-f1af-4499-abfb-de3a3f4642ac' title='Show/Hide attributes'><svg class='icon xr-icon-file-text2'><use xlink:href='#icon-file-text2'></use></svg></label><input id='data-c64cdd3c-04a8-47ba-99e4-33ccc20ddb65' class='xr-var-data-in' type='checkbox'><label for='data-c64cdd3c-04a8-47ba-99e4-33ccc20ddb65' title='Show/Hide data repr'><svg class='icon xr-icon-database'><use xlink:href='#icon-database'></use></svg></label><div class='xr-var-attrs'><dl class='xr-attrs'></dl></div><div class='xr-var-data'><pre>array([4., 4., 4., ..., 4., 4., 4.])</pre></div></li><li class='xr-var-item'><div class='xr-var-name'><span>snapshots_generators</span></div><div class='xr-var-dims'>(snapshots)</div><div class='xr-var-dtype'>float64</div><div class='xr-var-preview xr-preview'>4.0 4.0 4.0 4.0 ... 4.0 4.0 4.0 4.0</div><input id='attrs-58f7c74d-9ef1-415d-839f-6793853f091e' class='xr-var-attrs-in' type='checkbox' disabled><label for='attrs-58f7c74d-9ef1-415d-839f-6793853f091e' title='Show/Hide attributes'><svg class='icon xr-icon-file-text2'><use xlink:href='#icon-file-text2'></use></svg></label><input id='data-956d6632-a999-411a-b9d0-711c0106ce36' class='xr-var-data-in' type='checkbox'><label for='data-956d6632-a999-411a-b9d0-711c0106ce36' title='Show/Hide data repr'><svg class='icon xr-icon-database'><use xlink:href='#icon-database'></use></svg></label><div class='xr-var-attrs'><dl class='xr-attrs'></dl></div><div class='xr-var-data'><pre>array([4., 4., 4., ..., 4., 4., 4.])</pre></div></li><li class='xr-var-item'><div class='xr-var-name'><span>investment_periods_objective</span></div><div class='xr-var-dims'>(investment_periods)</div><div class='xr-var-dtype'>object</div><div class='xr-var-preview xr-preview'></div><input id='attrs-a6977d9e-29e6-41c7-9fde-b014b5c5728d' class='xr-var-attrs-in' type='checkbox' disabled><label for='attrs-a6977d9e-29e6-41c7-9fde-b014b5c5728d' title='Show/Hide attributes'><svg class='icon xr-icon-file-text2'><use xlink:href='#icon-file-text2'></use></svg></label><input id='data-1b978591-0d3d-41a3-a630-73f326b70f87' class='xr-var-data-in' type='checkbox'><label for='data-1b978591-0d3d-41a3-a630-73f326b70f87' title='Show/Hide data repr'><svg class='icon xr-icon-database'><use xlink:href='#icon-database'></use></svg></label><div class='xr-var-attrs'><dl class='xr-attrs'></dl></div><div class='xr-var-data'><pre>array([], dtype=object)</pre></div></li><li class='xr-var-item'><div class='xr-var-name'><span>investment_periods_years</span></div><div class='xr-var-dims'>(investment_periods)</div><div class='xr-var-dtype'>object</div><div class='xr-var-preview xr-preview'></div><input id='attrs-e6924a72-08a2-451b-8d68-1ecc659b56da' class='xr-var-attrs-in' type='checkbox' disabled><label for='attrs-e6924a72-08a2-451b-8d68-1ecc659b56da' title='Show/Hide attributes'><svg class='icon xr-icon-file-text2'><use xlink:href='#icon-file-text2'></use></svg></label><input id='data-962e5a44-01a2-4c69-a696-ae38628c4605' class='xr-var-data-in' type='checkbox'><label for='data-962e5a44-01a2-4c69-a696-ae38628c4605' title='Show/Hide data repr'><svg class='icon xr-icon-database'><use xlink:href='#icon-database'></use></svg></label><div class='xr-var-attrs'><dl class='xr-attrs'></dl></div><div class='xr-var-data'><pre>array([], dtype=object)</pre></div></li><li class='xr-var-item'><div class='xr-var-name'><span>generators_bus</span></div><div class='xr-var-dims'>(generators_i)</div><div class='xr-var-dtype'>object</div><div class='xr-var-preview xr-preview'>&#x27;electricity&#x27; ... &#x27;electricity&#x27;</div><input id='attrs-6391e229-b42e-4c18-a37d-eb775aa0917d' class='xr-var-attrs-in' type='checkbox' disabled><label for='attrs-6391e229-b42e-4c18-a37d-eb775aa0917d' title='Show/Hide attributes'><svg class='icon xr-icon-file-text2'><use xlink:href='#icon-file-text2'></use></svg></label><input id='data-7e181016-495b-4cd2-ad5e-d5f81f388ff4' class='xr-var-data-in' type='checkbox'><label for='data-7e181016-495b-4cd2-ad5e-d5f81f388ff4' title='Show/Hide data repr'><svg class='icon xr-icon-database'><use xlink:href='#icon-database'></use></svg></label><div class='xr-var-attrs'><dl class='xr-attrs'></dl></div><div class='xr-var-data'><pre>array([&#x27;electricity&#x27;, &#x27;electricity&#x27;, &#x27;electricity&#x27;, &#x27;electricity&#x27;],\n",
       "      dtype=object)</pre></div></li><li class='xr-var-item'><div class='xr-var-name'><span>generators_p_nom_extendable</span></div><div class='xr-var-dims'>(generators_i)</div><div class='xr-var-dtype'>bool</div><div class='xr-var-preview xr-preview'>True True True True</div><input id='attrs-a8db9b8e-e1a1-430d-9305-5b2ae1585893' class='xr-var-attrs-in' type='checkbox' disabled><label for='attrs-a8db9b8e-e1a1-430d-9305-5b2ae1585893' title='Show/Hide attributes'><svg class='icon xr-icon-file-text2'><use xlink:href='#icon-file-text2'></use></svg></label><input id='data-8df7ac50-5914-46b9-b4e9-cec41c785cd6' class='xr-var-data-in' type='checkbox'><label for='data-8df7ac50-5914-46b9-b4e9-cec41c785cd6' title='Show/Hide data repr'><svg class='icon xr-icon-database'><use xlink:href='#icon-database'></use></svg></label><div class='xr-var-attrs'><dl class='xr-attrs'></dl></div><div class='xr-var-data'><pre>array([ True,  True,  True,  True])</pre></div></li><li class='xr-var-item'><div class='xr-var-name'><span>generators_carrier</span></div><div class='xr-var-dims'>(generators_i)</div><div class='xr-var-dtype'>object</div><div class='xr-var-preview xr-preview'>&#x27;OCGT&#x27; &#x27;onwind&#x27; &#x27;offwind&#x27; &#x27;solar&#x27;</div><input id='attrs-0d536ba3-810b-4281-af71-2839f68ca69b' class='xr-var-attrs-in' type='checkbox' disabled><label for='attrs-0d536ba3-810b-4281-af71-2839f68ca69b' title='Show/Hide attributes'><svg class='icon xr-icon-file-text2'><use xlink:href='#icon-file-text2'></use></svg></label><input id='data-da18c746-2e84-488e-96ba-c592752b9245' class='xr-var-data-in' type='checkbox'><label for='data-da18c746-2e84-488e-96ba-c592752b9245' title='Show/Hide data repr'><svg class='icon xr-icon-database'><use xlink:href='#icon-database'></use></svg></label><div class='xr-var-attrs'><dl class='xr-attrs'></dl></div><div class='xr-var-data'><pre>array([&#x27;OCGT&#x27;, &#x27;onwind&#x27;, &#x27;offwind&#x27;, &#x27;solar&#x27;], dtype=object)</pre></div></li><li class='xr-var-item'><div class='xr-var-name'><span>generators_marginal_cost</span></div><div class='xr-var-dims'>(generators_i)</div><div class='xr-var-dtype'>float64</div><div class='xr-var-preview xr-preview'>64.68 1.429 0.0212 0.0106</div><input id='attrs-2670c9b1-e36c-4e85-816b-704b833dfc23' class='xr-var-attrs-in' type='checkbox' disabled><label for='attrs-2670c9b1-e36c-4e85-816b-704b833dfc23' title='Show/Hide attributes'><svg class='icon xr-icon-file-text2'><use xlink:href='#icon-file-text2'></use></svg></label><input id='data-b281e216-bb8f-4deb-85b9-517c18e0929e' class='xr-var-data-in' type='checkbox'><label for='data-b281e216-bb8f-4deb-85b9-517c18e0929e' title='Show/Hide data repr'><svg class='icon xr-icon-database'><use xlink:href='#icon-database'></use></svg></label><div class='xr-var-attrs'><dl class='xr-attrs'></dl></div><div class='xr-var-data'><pre>array([6.46839512e+01, 1.42860000e+00, 2.12000000e-02, 1.06000000e-02])</pre></div></li><li class='xr-var-item'><div class='xr-var-name'><span>generators_build_year</span></div><div class='xr-var-dims'>(generators_i)</div><div class='xr-var-dtype'>int64</div><div class='xr-var-preview xr-preview'>0 0 0 0</div><input id='attrs-641c1ce7-50c3-47d3-b6be-afd5230707b0' class='xr-var-attrs-in' type='checkbox' disabled><label for='attrs-641c1ce7-50c3-47d3-b6be-afd5230707b0' title='Show/Hide attributes'><svg class='icon xr-icon-file-text2'><use xlink:href='#icon-file-text2'></use></svg></label><input id='data-8666eb84-d718-426e-8aee-55ddd1d2d166' class='xr-var-data-in' type='checkbox'><label for='data-8666eb84-d718-426e-8aee-55ddd1d2d166' title='Show/Hide data repr'><svg class='icon xr-icon-database'><use xlink:href='#icon-database'></use></svg></label><div class='xr-var-attrs'><dl class='xr-attrs'></dl></div><div class='xr-var-data'><pre>array([0, 0, 0, 0], dtype=int64)</pre></div></li><li class='xr-var-item'><div class='xr-var-name'><span>generators_capital_cost</span></div><div class='xr-var-dims'>(generators_i)</div><div class='xr-var-dtype'>float64</div><div class='xr-var-preview xr-preview'>4.772e+04 1.016e+05 ... 5.135e+04</div><input id='attrs-872411d9-1669-40f7-a31a-912d792f8d37' class='xr-var-attrs-in' type='checkbox' disabled><label for='attrs-872411d9-1669-40f7-a31a-912d792f8d37' title='Show/Hide attributes'><svg class='icon xr-icon-file-text2'><use xlink:href='#icon-file-text2'></use></svg></label><input id='data-0d2ac12f-8f3c-4b35-a96c-37356923fc16' class='xr-var-data-in' type='checkbox'><label for='data-0d2ac12f-8f3c-4b35-a96c-37356923fc16' title='Show/Hide data repr'><svg class='icon xr-icon-database'><use xlink:href='#icon-database'></use></svg></label><div class='xr-var-attrs'><dl class='xr-attrs'></dl></div><div class='xr-var-data'><pre>array([ 47718.6705637 , 101644.12332388, 174556.22307976,  51346.82981965])</pre></div></li><li class='xr-var-item'><div class='xr-var-name'><span>generators_efficiency</span></div><div class='xr-var-dims'>(generators_i)</div><div class='xr-var-dtype'>float64</div><div class='xr-var-preview xr-preview'>0.41 1.0 1.0 1.0</div><input id='attrs-0fcd643d-7846-4e55-bbb2-5c514c153084' class='xr-var-attrs-in' type='checkbox' disabled><label for='attrs-0fcd643d-7846-4e55-bbb2-5c514c153084' title='Show/Hide attributes'><svg class='icon xr-icon-file-text2'><use xlink:href='#icon-file-text2'></use></svg></label><input id='data-663232cf-5c70-4ab9-83e2-3c77b3be248a' class='xr-var-data-in' type='checkbox'><label for='data-663232cf-5c70-4ab9-83e2-3c77b3be248a' title='Show/Hide data repr'><svg class='icon xr-icon-database'><use xlink:href='#icon-database'></use></svg></label><div class='xr-var-attrs'><dl class='xr-attrs'></dl></div><div class='xr-var-data'><pre>array([0.41, 1.  , 1.  , 1.  ])</pre></div></li><li class='xr-var-item'><div class='xr-var-name'><span>generators_min_up_time</span></div><div class='xr-var-dims'>(generators_i)</div><div class='xr-var-dtype'>int64</div><div class='xr-var-preview xr-preview'>0 0 0 0</div><input id='attrs-33f7f4a5-3c44-402d-bad6-6c22a7cea029' class='xr-var-attrs-in' type='checkbox' disabled><label for='attrs-33f7f4a5-3c44-402d-bad6-6c22a7cea029' title='Show/Hide attributes'><svg class='icon xr-icon-file-text2'><use xlink:href='#icon-file-text2'></use></svg></label><input id='data-7dfc5cc5-2c6b-448c-951e-60d6c745b4eb' class='xr-var-data-in' type='checkbox'><label for='data-7dfc5cc5-2c6b-448c-951e-60d6c745b4eb' title='Show/Hide data repr'><svg class='icon xr-icon-database'><use xlink:href='#icon-database'></use></svg></label><div class='xr-var-attrs'><dl class='xr-attrs'></dl></div><div class='xr-var-data'><pre>array([0, 0, 0, 0], dtype=int64)</pre></div></li><li class='xr-var-item'><div class='xr-var-name'><span>generators_min_down_time</span></div><div class='xr-var-dims'>(generators_i)</div><div class='xr-var-dtype'>int64</div><div class='xr-var-preview xr-preview'>0 0 0 0</div><input id='attrs-cfb36739-e370-4637-b9fa-8e8c6f8da151' class='xr-var-attrs-in' type='checkbox' disabled><label for='attrs-cfb36739-e370-4637-b9fa-8e8c6f8da151' title='Show/Hide attributes'><svg class='icon xr-icon-file-text2'><use xlink:href='#icon-file-text2'></use></svg></label><input id='data-5a2680bd-b54f-4238-8871-c6e8fce8d15d' class='xr-var-data-in' type='checkbox'><label for='data-5a2680bd-b54f-4238-8871-c6e8fce8d15d' title='Show/Hide data repr'><svg class='icon xr-icon-database'><use xlink:href='#icon-database'></use></svg></label><div class='xr-var-attrs'><dl class='xr-attrs'></dl></div><div class='xr-var-data'><pre>array([0, 0, 0, 0], dtype=int64)</pre></div></li><li class='xr-var-item'><div class='xr-var-name'><span>generators_up_time_before</span></div><div class='xr-var-dims'>(generators_i)</div><div class='xr-var-dtype'>int64</div><div class='xr-var-preview xr-preview'>1 1 1 1</div><input id='attrs-3fcad337-d1f3-4498-80ba-620516cf2f1b' class='xr-var-attrs-in' type='checkbox' disabled><label for='attrs-3fcad337-d1f3-4498-80ba-620516cf2f1b' title='Show/Hide attributes'><svg class='icon xr-icon-file-text2'><use xlink:href='#icon-file-text2'></use></svg></label><input id='data-934e837f-6a56-4cdc-93eb-c56b1848e752' class='xr-var-data-in' type='checkbox'><label for='data-934e837f-6a56-4cdc-93eb-c56b1848e752' title='Show/Hide data repr'><svg class='icon xr-icon-database'><use xlink:href='#icon-database'></use></svg></label><div class='xr-var-attrs'><dl class='xr-attrs'></dl></div><div class='xr-var-data'><pre>array([1, 1, 1, 1], dtype=int64)</pre></div></li><li class='xr-var-item'><div class='xr-var-name'><span>generators_down_time_before</span></div><div class='xr-var-dims'>(generators_i)</div><div class='xr-var-dtype'>int64</div><div class='xr-var-preview xr-preview'>0 0 0 0</div><input id='attrs-65192979-cee0-4fa4-829e-94a6e19d6e02' class='xr-var-attrs-in' type='checkbox' disabled><label for='attrs-65192979-cee0-4fa4-829e-94a6e19d6e02' title='Show/Hide attributes'><svg class='icon xr-icon-file-text2'><use xlink:href='#icon-file-text2'></use></svg></label><input id='data-8c57e8fe-9b97-426e-9bcc-61405fdfc6c1' class='xr-var-data-in' type='checkbox'><label for='data-8c57e8fe-9b97-426e-9bcc-61405fdfc6c1' title='Show/Hide data repr'><svg class='icon xr-icon-database'><use xlink:href='#icon-database'></use></svg></label><div class='xr-var-attrs'><dl class='xr-attrs'></dl></div><div class='xr-var-data'><pre>array([0, 0, 0, 0], dtype=int64)</pre></div></li><li class='xr-var-item'><div class='xr-var-name'><span>generators_p_nom_opt</span></div><div class='xr-var-dims'>(generators_i)</div><div class='xr-var-dtype'>float64</div><div class='xr-var-preview xr-preview'>-0.0 2.674e+05 6.188e+04 2.89e+05</div><input id='attrs-8586102d-cf7e-4b85-a33b-6ca5033b7b1c' class='xr-var-attrs-in' type='checkbox' disabled><label for='attrs-8586102d-cf7e-4b85-a33b-6ca5033b7b1c' title='Show/Hide attributes'><svg class='icon xr-icon-file-text2'><use xlink:href='#icon-file-text2'></use></svg></label><input id='data-a2ab4e29-fdfc-4339-b764-e05c5aa873bf' class='xr-var-data-in' type='checkbox'><label for='data-a2ab4e29-fdfc-4339-b764-e05c5aa873bf' title='Show/Hide data repr'><svg class='icon xr-icon-database'><use xlink:href='#icon-database'></use></svg></label><div class='xr-var-attrs'><dl class='xr-attrs'></dl></div><div class='xr-var-data'><pre>array([    -0.        , 267431.11905719,  61878.83690013, 288960.77846821])</pre></div></li><li class='xr-var-item'><div class='xr-var-name'><span>generators_t_p_max_pu</span></div><div class='xr-var-dims'>(snapshots, generators_t_p_max_pu_i)</div><div class='xr-var-dtype'>float64</div><div class='xr-var-preview xr-preview'>0.703 0.1566 0.0 ... 0.1211 0.0</div><input id='attrs-a5a1c90c-7441-4e5d-8c4c-a9dca6047ee0' class='xr-var-attrs-in' type='checkbox' disabled><label for='attrs-a5a1c90c-7441-4e5d-8c4c-a9dca6047ee0' title='Show/Hide attributes'><svg class='icon xr-icon-file-text2'><use xlink:href='#icon-file-text2'></use></svg></label><input id='data-1c2160d4-e0e7-41d4-b109-6c371ee47935' class='xr-var-data-in' type='checkbox'><label for='data-1c2160d4-e0e7-41d4-b109-6c371ee47935' title='Show/Hide data repr'><svg class='icon xr-icon-database'><use xlink:href='#icon-database'></use></svg></label><div class='xr-var-attrs'><dl class='xr-attrs'></dl></div><div class='xr-var-data'><pre>array([[0.703 , 0.1566, 0.    ],\n",
       "       [0.7272, 0.1826, 0.    ],\n",
       "       [0.7828, 0.2281, 0.0442],\n",
       "       ...,\n",
       "       [0.7766, 0.2319, 0.1509],\n",
       "       [0.5903, 0.1942, 0.    ],\n",
       "       [0.4023, 0.1211, 0.    ]])</pre></div></li><li class='xr-var-item'><div class='xr-var-name'><span>generators_t_p</span></div><div class='xr-var-dims'>(snapshots, generators_t_p_i)</div><div class='xr-var-dtype'>float64</div><div class='xr-var-preview xr-preview'>-0.0 4.35e+04 ... 2.489e+04 -0.0</div><input id='attrs-29ce6b36-230d-46a3-839f-eabf657c7a7c' class='xr-var-attrs-in' type='checkbox' disabled><label for='attrs-29ce6b36-230d-46a3-839f-eabf657c7a7c' title='Show/Hide attributes'><svg class='icon xr-icon-file-text2'><use xlink:href='#icon-file-text2'></use></svg></label><input id='data-f642d24e-bcf0-4001-a4e0-afa8fa369607' class='xr-var-data-in' type='checkbox'><label for='data-f642d24e-bcf0-4001-a4e0-afa8fa369607' title='Show/Hide data repr'><svg class='icon xr-icon-database'><use xlink:href='#icon-database'></use></svg></label><div class='xr-var-attrs'><dl class='xr-attrs'></dl></div><div class='xr-var-data'><pre>array([[   -0.        , 43500.82234079,    -0.        ],\n",
       "       [   -0.        , 44998.29019377,    -0.        ],\n",
       "       [   -0.        , 48438.75352542, 12772.06640829],\n",
       "       ...,\n",
       "       [   -0.        , 48055.10473664, 43604.18147085],\n",
       "       [18117.92257785, 36527.07742215,    -0.        ],\n",
       "       [21017.14391508, 24893.85608492,    -0.        ]])</pre></div></li><li class='xr-var-item'><div class='xr-var-name'><span>carriers_co2_emissions</span></div><div class='xr-var-dims'>(carriers_i)</div><div class='xr-var-dtype'>float64</div><div class='xr-var-preview xr-preview'>0.0 0.0 0.0 0.198 0.0 0.0</div><input id='attrs-8592d49f-f237-4152-b077-d491ddf393d5' class='xr-var-attrs-in' type='checkbox' disabled><label for='attrs-8592d49f-f237-4152-b077-d491ddf393d5' title='Show/Hide attributes'><svg class='icon xr-icon-file-text2'><use xlink:href='#icon-file-text2'></use></svg></label><input id='data-449dd10b-c298-4ef8-b11f-a2eaf65051b3' class='xr-var-data-in' type='checkbox'><label for='data-449dd10b-c298-4ef8-b11f-a2eaf65051b3' title='Show/Hide data repr'><svg class='icon xr-icon-database'><use xlink:href='#icon-database'></use></svg></label><div class='xr-var-attrs'><dl class='xr-attrs'></dl></div><div class='xr-var-data'><pre>array([0.   , 0.   , 0.   , 0.198, 0.   , 0.   ])</pre></div></li><li class='xr-var-item'><div class='xr-var-name'><span>carriers_color</span></div><div class='xr-var-dims'>(carriers_i)</div><div class='xr-var-dtype'>object</div><div class='xr-var-preview xr-preview'>&#x27;dodgerblue&#x27; ... &#x27;yellowgreen&#x27;</div><input id='attrs-810b9ce8-5e4b-4e63-b4ff-c7c7b98bedfe' class='xr-var-attrs-in' type='checkbox' disabled><label for='attrs-810b9ce8-5e4b-4e63-b4ff-c7c7b98bedfe' title='Show/Hide attributes'><svg class='icon xr-icon-file-text2'><use xlink:href='#icon-file-text2'></use></svg></label><input id='data-a4ebc78f-43de-4499-8137-986b9c15a246' class='xr-var-data-in' type='checkbox'><label for='data-a4ebc78f-43de-4499-8137-986b9c15a246' title='Show/Hide data repr'><svg class='icon xr-icon-database'><use xlink:href='#icon-database'></use></svg></label><div class='xr-var-attrs'><dl class='xr-attrs'></dl></div><div class='xr-var-data'><pre>array([&#x27;dodgerblue&#x27;, &#x27;aquamarine&#x27;, &#x27;gold&#x27;, &#x27;indianred&#x27;, &#x27;magenta&#x27;,\n",
       "       &#x27;yellowgreen&#x27;], dtype=object)</pre></div></li><li class='xr-var-item'><div class='xr-var-name'><span>storage_units_bus</span></div><div class='xr-var-dims'>(storage_units_i)</div><div class='xr-var-dtype'>object</div><div class='xr-var-preview xr-preview'>&#x27;electricity&#x27; &#x27;electricity&#x27;</div><input id='attrs-881a2120-0fbb-4916-9267-fc2dc9def5cb' class='xr-var-attrs-in' type='checkbox' disabled><label for='attrs-881a2120-0fbb-4916-9267-fc2dc9def5cb' title='Show/Hide attributes'><svg class='icon xr-icon-file-text2'><use xlink:href='#icon-file-text2'></use></svg></label><input id='data-16aa3710-db47-4c96-b123-990247ad8a39' class='xr-var-data-in' type='checkbox'><label for='data-16aa3710-db47-4c96-b123-990247ad8a39' title='Show/Hide data repr'><svg class='icon xr-icon-database'><use xlink:href='#icon-database'></use></svg></label><div class='xr-var-attrs'><dl class='xr-attrs'></dl></div><div class='xr-var-data'><pre>array([&#x27;electricity&#x27;, &#x27;electricity&#x27;], dtype=object)</pre></div></li><li class='xr-var-item'><div class='xr-var-name'><span>storage_units_p_nom_extendable</span></div><div class='xr-var-dims'>(storage_units_i)</div><div class='xr-var-dtype'>bool</div><div class='xr-var-preview xr-preview'>True True</div><input id='attrs-af70ad62-ef97-4c31-a50f-ee5865d89acf' class='xr-var-attrs-in' type='checkbox' disabled><label for='attrs-af70ad62-ef97-4c31-a50f-ee5865d89acf' title='Show/Hide attributes'><svg class='icon xr-icon-file-text2'><use xlink:href='#icon-file-text2'></use></svg></label><input id='data-4bf6afdd-e8fe-4cf8-969e-fc8fad5768a6' class='xr-var-data-in' type='checkbox'><label for='data-4bf6afdd-e8fe-4cf8-969e-fc8fad5768a6' title='Show/Hide data repr'><svg class='icon xr-icon-database'><use xlink:href='#icon-database'></use></svg></label><div class='xr-var-attrs'><dl class='xr-attrs'></dl></div><div class='xr-var-data'><pre>array([ True,  True])</pre></div></li><li class='xr-var-item'><div class='xr-var-name'><span>storage_units_carrier</span></div><div class='xr-var-dims'>(storage_units_i)</div><div class='xr-var-dtype'>object</div><div class='xr-var-preview xr-preview'>&#x27;battery storage&#x27; &#x27;hydrogen stor...</div><input id='attrs-eba7697f-8e28-4765-a0a6-95f5bcfef292' class='xr-var-attrs-in' type='checkbox' disabled><label for='attrs-eba7697f-8e28-4765-a0a6-95f5bcfef292' title='Show/Hide attributes'><svg class='icon xr-icon-file-text2'><use xlink:href='#icon-file-text2'></use></svg></label><input id='data-fa0d9895-a8a6-4d22-ad4a-9ea1485ca00a' class='xr-var-data-in' type='checkbox'><label for='data-fa0d9895-a8a6-4d22-ad4a-9ea1485ca00a' title='Show/Hide data repr'><svg class='icon xr-icon-database'><use xlink:href='#icon-database'></use></svg></label><div class='xr-var-attrs'><dl class='xr-attrs'></dl></div><div class='xr-var-data'><pre>array([&#x27;battery storage&#x27;, &#x27;hydrogen storage underground&#x27;], dtype=object)</pre></div></li><li class='xr-var-item'><div class='xr-var-name'><span>storage_units_capital_cost</span></div><div class='xr-var-dims'>(storage_units_i)</div><div class='xr-var-dtype'>float64</div><div class='xr-var-preview xr-preview'>1.02e+05 4.376e+05</div><input id='attrs-1bd76d4e-3384-4a5f-a68b-4e2e03b2290f' class='xr-var-attrs-in' type='checkbox' disabled><label for='attrs-1bd76d4e-3384-4a5f-a68b-4e2e03b2290f' title='Show/Hide attributes'><svg class='icon xr-icon-file-text2'><use xlink:href='#icon-file-text2'></use></svg></label><input id='data-68ff1eb3-98a0-43da-bd53-7a797b517c7a' class='xr-var-data-in' type='checkbox'><label for='data-68ff1eb3-98a0-43da-bd53-7a797b517c7a' title='Show/Hide data repr'><svg class='icon xr-icon-database'><use xlink:href='#icon-database'></use></svg></label><div class='xr-var-attrs'><dl class='xr-attrs'></dl></div><div class='xr-var-data'><pre>array([102045.34925427, 437569.19541486])</pre></div></li><li class='xr-var-item'><div class='xr-var-name'><span>storage_units_build_year</span></div><div class='xr-var-dims'>(storage_units_i)</div><div class='xr-var-dtype'>int64</div><div class='xr-var-preview xr-preview'>0 0</div><input id='attrs-d5f67771-9a08-4451-80c5-79e740bd7e8d' class='xr-var-attrs-in' type='checkbox' disabled><label for='attrs-d5f67771-9a08-4451-80c5-79e740bd7e8d' title='Show/Hide attributes'><svg class='icon xr-icon-file-text2'><use xlink:href='#icon-file-text2'></use></svg></label><input id='data-f7eef151-0e8b-41d9-9387-ac49bce3fa3f' class='xr-var-data-in' type='checkbox'><label for='data-f7eef151-0e8b-41d9-9387-ac49bce3fa3f' title='Show/Hide data repr'><svg class='icon xr-icon-database'><use xlink:href='#icon-database'></use></svg></label><div class='xr-var-attrs'><dl class='xr-attrs'></dl></div><div class='xr-var-data'><pre>array([0, 0], dtype=int64)</pre></div></li><li class='xr-var-item'><div class='xr-var-name'><span>storage_units_cyclic_state_of_charge</span></div><div class='xr-var-dims'>(storage_units_i)</div><div class='xr-var-dtype'>bool</div><div class='xr-var-preview xr-preview'>True True</div><input id='attrs-dfa4bb97-2614-4823-89bb-c388b10ce89a' class='xr-var-attrs-in' type='checkbox' disabled><label for='attrs-dfa4bb97-2614-4823-89bb-c388b10ce89a' title='Show/Hide attributes'><svg class='icon xr-icon-file-text2'><use xlink:href='#icon-file-text2'></use></svg></label><input id='data-0b526569-2117-4733-87b2-6bb245500cef' class='xr-var-data-in' type='checkbox'><label for='data-0b526569-2117-4733-87b2-6bb245500cef' title='Show/Hide data repr'><svg class='icon xr-icon-database'><use xlink:href='#icon-database'></use></svg></label><div class='xr-var-attrs'><dl class='xr-attrs'></dl></div><div class='xr-var-data'><pre>array([ True,  True])</pre></div></li><li class='xr-var-item'><div class='xr-var-name'><span>storage_units_max_hours</span></div><div class='xr-var-dims'>(storage_units_i)</div><div class='xr-var-dtype'>float64</div><div class='xr-var-preview xr-preview'>6.0 168.0</div><input id='attrs-9992f4d6-01e3-4884-9daf-16417b3d895e' class='xr-var-attrs-in' type='checkbox' disabled><label for='attrs-9992f4d6-01e3-4884-9daf-16417b3d895e' title='Show/Hide attributes'><svg class='icon xr-icon-file-text2'><use xlink:href='#icon-file-text2'></use></svg></label><input id='data-19197e0b-7b75-466c-bb10-681be70b0813' class='xr-var-data-in' type='checkbox'><label for='data-19197e0b-7b75-466c-bb10-681be70b0813' title='Show/Hide data repr'><svg class='icon xr-icon-database'><use xlink:href='#icon-database'></use></svg></label><div class='xr-var-attrs'><dl class='xr-attrs'></dl></div><div class='xr-var-data'><pre>array([  6., 168.])</pre></div></li><li class='xr-var-item'><div class='xr-var-name'><span>storage_units_efficiency_store</span></div><div class='xr-var-dims'>(storage_units_i)</div><div class='xr-var-dtype'>float64</div><div class='xr-var-preview xr-preview'>0.96 0.6217</div><input id='attrs-132f281e-7b8f-4b61-aff5-872ffa48fad3' class='xr-var-attrs-in' type='checkbox' disabled><label for='attrs-132f281e-7b8f-4b61-aff5-872ffa48fad3' title='Show/Hide attributes'><svg class='icon xr-icon-file-text2'><use xlink:href='#icon-file-text2'></use></svg></label><input id='data-ff743495-75ce-4601-b185-3d6b4601ced2' class='xr-var-data-in' type='checkbox'><label for='data-ff743495-75ce-4601-b185-3d6b4601ced2' title='Show/Hide data repr'><svg class='icon xr-icon-database'><use xlink:href='#icon-database'></use></svg></label><div class='xr-var-attrs'><dl class='xr-attrs'></dl></div><div class='xr-var-data'><pre>array([0.96  , 0.6217])</pre></div></li><li class='xr-var-item'><div class='xr-var-name'><span>storage_units_efficiency_dispatch</span></div><div class='xr-var-dims'>(storage_units_i)</div><div class='xr-var-dtype'>float64</div><div class='xr-var-preview xr-preview'>0.96 0.5</div><input id='attrs-98b47319-bd1f-40ea-9e2b-ed26883a5d97' class='xr-var-attrs-in' type='checkbox' disabled><label for='attrs-98b47319-bd1f-40ea-9e2b-ed26883a5d97' title='Show/Hide attributes'><svg class='icon xr-icon-file-text2'><use xlink:href='#icon-file-text2'></use></svg></label><input id='data-ac5b0b71-ed68-4452-854e-9f762f0f2d90' class='xr-var-data-in' type='checkbox'><label for='data-ac5b0b71-ed68-4452-854e-9f762f0f2d90' title='Show/Hide data repr'><svg class='icon xr-icon-database'><use xlink:href='#icon-database'></use></svg></label><div class='xr-var-attrs'><dl class='xr-attrs'></dl></div><div class='xr-var-data'><pre>array([0.96, 0.5 ])</pre></div></li><li class='xr-var-item'><div class='xr-var-name'><span>storage_units_p_nom_opt</span></div><div class='xr-var-dims'>(storage_units_i)</div><div class='xr-var-dtype'>float64</div><div class='xr-var-preview xr-preview'>5.046e+04 4.872e+04</div><input id='attrs-262bf9f4-faf4-43b6-8d61-c4bfab6c5b5f' class='xr-var-attrs-in' type='checkbox' disabled><label for='attrs-262bf9f4-faf4-43b6-8d61-c4bfab6c5b5f' title='Show/Hide attributes'><svg class='icon xr-icon-file-text2'><use xlink:href='#icon-file-text2'></use></svg></label><input id='data-06af6e57-d599-4b73-b7f1-a5a5683f830a' class='xr-var-data-in' type='checkbox'><label for='data-06af6e57-d599-4b73-b7f1-a5a5683f830a' title='Show/Hide data repr'><svg class='icon xr-icon-database'><use xlink:href='#icon-database'></use></svg></label><div class='xr-var-attrs'><dl class='xr-attrs'></dl></div><div class='xr-var-data'><pre>array([50461.16207281, 48721.59343586])</pre></div></li><li class='xr-var-item'><div class='xr-var-name'><span>storage_units_t_p</span></div><div class='xr-var-dims'>(snapshots, storage_units_t_p_i)</div><div class='xr-var-dtype'>float64</div><div class='xr-var-preview xr-preview'>0.0 -2.35e+03 0.0 ... 0.0 0.0 0.0</div><input id='attrs-89d8f513-8a5c-4874-a238-8292acc19ade' class='xr-var-attrs-in' type='checkbox' disabled><label for='attrs-89d8f513-8a5c-4874-a238-8292acc19ade' title='Show/Hide attributes'><svg class='icon xr-icon-file-text2'><use xlink:href='#icon-file-text2'></use></svg></label><input id='data-ed8d3dd0-0acc-4512-83b6-bece0a10e068' class='xr-var-data-in' type='checkbox'><label for='data-ed8d3dd0-0acc-4512-83b6-bece0a10e068' title='Show/Hide data repr'><svg class='icon xr-icon-database'><use xlink:href='#icon-database'></use></svg></label><div class='xr-var-attrs'><dl class='xr-attrs'></dl></div><div class='xr-var-data'><pre>array([[     0.        ,  -2349.82234079],\n",
       "       [     0.        ,  -6057.29019377],\n",
       "       [     0.        , -18247.81993371],\n",
       "       ...,\n",
       "       [     0.        , -40918.28620749],\n",
       "       [     0.        ,      0.        ],\n",
       "       [     0.        ,      0.        ]])</pre></div></li><li class='xr-var-item'><div class='xr-var-name'><span>storage_units_t_p_dispatch</span></div><div class='xr-var-dims'>(snapshots, storage_units_t_p_dispatch_i)</div><div class='xr-var-dtype'>float64</div><div class='xr-var-preview xr-preview'>-0.0 -0.0 -0.0 ... -0.0 -0.0 -0.0</div><input id='attrs-afe08c23-0672-4d1e-9859-a41160ae063e' class='xr-var-attrs-in' type='checkbox' disabled><label for='attrs-afe08c23-0672-4d1e-9859-a41160ae063e' title='Show/Hide attributes'><svg class='icon xr-icon-file-text2'><use xlink:href='#icon-file-text2'></use></svg></label><input id='data-9e3103e2-5f4b-4c88-8173-f025fe212827' class='xr-var-data-in' type='checkbox'><label for='data-9e3103e2-5f4b-4c88-8173-f025fe212827' title='Show/Hide data repr'><svg class='icon xr-icon-database'><use xlink:href='#icon-database'></use></svg></label><div class='xr-var-attrs'><dl class='xr-attrs'></dl></div><div class='xr-var-data'><pre>array([[-0., -0.],\n",
       "       [-0., -0.],\n",
       "       [-0., -0.],\n",
       "       ...,\n",
       "       [-0., -0.],\n",
       "       [-0., -0.],\n",
       "       [-0., -0.]])</pre></div></li><li class='xr-var-item'><div class='xr-var-name'><span>storage_units_t_p_store</span></div><div class='xr-var-dims'>(snapshots, storage_units_t_p_store_i)</div><div class='xr-var-dtype'>float64</div><div class='xr-var-preview xr-preview'>-0.0 2.35e+03 -0.0 ... -0.0 -0.0</div><input id='attrs-488ef35a-4669-442a-a365-f2b199f3b16b' class='xr-var-attrs-in' type='checkbox' disabled><label for='attrs-488ef35a-4669-442a-a365-f2b199f3b16b' title='Show/Hide attributes'><svg class='icon xr-icon-file-text2'><use xlink:href='#icon-file-text2'></use></svg></label><input id='data-ccc715a4-fe4c-4c63-8f1d-736df5f1746c' class='xr-var-data-in' type='checkbox'><label for='data-ccc715a4-fe4c-4c63-8f1d-736df5f1746c' title='Show/Hide data repr'><svg class='icon xr-icon-database'><use xlink:href='#icon-database'></use></svg></label><div class='xr-var-attrs'><dl class='xr-attrs'></dl></div><div class='xr-var-data'><pre>array([[   -0.        ,  2349.82234079],\n",
       "       [   -0.        ,  6057.29019377],\n",
       "       [   -0.        , 18247.81993371],\n",
       "       ...,\n",
       "       [   -0.        , 40918.28620749],\n",
       "       [   -0.        ,    -0.        ],\n",
       "       [   -0.        ,    -0.        ]])</pre></div></li><li class='xr-var-item'><div class='xr-var-name'><span>storage_units_t_state_of_charge</span></div><div class='xr-var-dims'>(snapshots, storage_units_t_state_of_charge_i)</div><div class='xr-var-dtype'>float64</div><div class='xr-var-preview xr-preview'>2.449e+05 2.571e+06 ... 2.565e+06</div><input id='attrs-142be8db-6c55-43a9-adbb-6b2d3ac4ddfd' class='xr-var-attrs-in' type='checkbox' disabled><label for='attrs-142be8db-6c55-43a9-adbb-6b2d3ac4ddfd' title='Show/Hide attributes'><svg class='icon xr-icon-file-text2'><use xlink:href='#icon-file-text2'></use></svg></label><input id='data-d80567c2-0e15-41d4-9748-064548ae2fa6' class='xr-var-data-in' type='checkbox'><label for='data-d80567c2-0e15-41d4-9748-064548ae2fa6' title='Show/Hide data repr'><svg class='icon xr-icon-database'><use xlink:href='#icon-database'></use></svg></label><div class='xr-var-attrs'><dl class='xr-attrs'></dl></div><div class='xr-var-data'><pre>array([[ 244945.07742668, 2570537.41273734],\n",
       "       [ 244945.07742668, 2585600.68199122],\n",
       "       [ 244945.07742668, 2630979.36060238],\n",
       "       ...,\n",
       "       [ 244945.07742668, 2564693.87454027],\n",
       "       [ 244945.07742668, 2564693.87454027],\n",
       "       [ 244945.07742668, 2564693.87454027]])</pre></div></li><li class='xr-var-item'><div class='xr-var-name'><span>buses_t_p</span></div><div class='xr-var-dims'>(snapshots, buses_t_p_i)</div><div class='xr-var-dtype'>float64</div><div class='xr-var-preview xr-preview'>0.0 0.0 0.0 0.0 ... 0.0 0.0 0.0 0.0</div><input id='attrs-202bbfbc-cc0f-4916-91d8-c4ea8f5b8d87' class='xr-var-attrs-in' type='checkbox' disabled><label for='attrs-202bbfbc-cc0f-4916-91d8-c4ea8f5b8d87' title='Show/Hide attributes'><svg class='icon xr-icon-file-text2'><use xlink:href='#icon-file-text2'></use></svg></label><input id='data-31c16ca2-cba3-4426-98e2-bb4049c30e7a' class='xr-var-data-in' type='checkbox'><label for='data-31c16ca2-cba3-4426-98e2-bb4049c30e7a' title='Show/Hide data repr'><svg class='icon xr-icon-database'><use xlink:href='#icon-database'></use></svg></label><div class='xr-var-attrs'><dl class='xr-attrs'></dl></div><div class='xr-var-data'><pre>array([[0.],\n",
       "       [0.],\n",
       "       [0.],\n",
       "       ...,\n",
       "       [0.],\n",
       "       [0.],\n",
       "       [0.]])</pre></div></li><li class='xr-var-item'><div class='xr-var-name'><span>buses_t_marginal_price</span></div><div class='xr-var-dims'>(snapshots, buses_t_marginal_price_i)</div><div class='xr-var-dtype'>float64</div><div class='xr-var-preview xr-preview'>1.429 1.429 1.429 ... 1.429 1.429</div><input id='attrs-bec2cca5-1226-491c-bfde-04ba4f5b7274' class='xr-var-attrs-in' type='checkbox' disabled><label for='attrs-bec2cca5-1226-491c-bfde-04ba4f5b7274' title='Show/Hide attributes'><svg class='icon xr-icon-file-text2'><use xlink:href='#icon-file-text2'></use></svg></label><input id='data-fb4d144c-cd97-418c-bbb5-8876c66356ed' class='xr-var-data-in' type='checkbox'><label for='data-fb4d144c-cd97-418c-bbb5-8876c66356ed' title='Show/Hide data repr'><svg class='icon xr-icon-database'><use xlink:href='#icon-database'></use></svg></label><div class='xr-var-attrs'><dl class='xr-attrs'></dl></div><div class='xr-var-data'><pre>array([[1.4286],\n",
       "       [1.4286],\n",
       "       [1.4286],\n",
       "       ...,\n",
       "       [1.4286],\n",
       "       [1.4286],\n",
       "       [1.4286]])</pre></div></li><li class='xr-var-item'><div class='xr-var-name'><span>loads_bus</span></div><div class='xr-var-dims'>(loads_i)</div><div class='xr-var-dtype'>object</div><div class='xr-var-preview xr-preview'>&#x27;electricity&#x27;</div><input id='attrs-69f32585-802e-4b9b-a410-9784a9def9d1' class='xr-var-attrs-in' type='checkbox' disabled><label for='attrs-69f32585-802e-4b9b-a410-9784a9def9d1' title='Show/Hide attributes'><svg class='icon xr-icon-file-text2'><use xlink:href='#icon-file-text2'></use></svg></label><input id='data-19336157-7e02-44ca-b0d6-6407d4f89ea4' class='xr-var-data-in' type='checkbox'><label for='data-19336157-7e02-44ca-b0d6-6407d4f89ea4' title='Show/Hide data repr'><svg class='icon xr-icon-database'><use xlink:href='#icon-database'></use></svg></label><div class='xr-var-attrs'><dl class='xr-attrs'></dl></div><div class='xr-var-data'><pre>array([&#x27;electricity&#x27;], dtype=object)</pre></div></li><li class='xr-var-item'><div class='xr-var-name'><span>loads_t_p_set</span></div><div class='xr-var-dims'>(snapshots, loads_t_p_set_i)</div><div class='xr-var-dtype'>float64</div><div class='xr-var-preview xr-preview'>4.115e+04 3.894e+04 ... 4.591e+04</div><input id='attrs-0113acf6-3555-41f2-a790-f5f43e971d1a' class='xr-var-attrs-in' type='checkbox' disabled><label for='attrs-0113acf6-3555-41f2-a790-f5f43e971d1a' title='Show/Hide attributes'><svg class='icon xr-icon-file-text2'><use xlink:href='#icon-file-text2'></use></svg></label><input id='data-e7d6b54e-cfaa-4547-8eb8-4e5a30ab8ca5' class='xr-var-data-in' type='checkbox'><label for='data-e7d6b54e-cfaa-4547-8eb8-4e5a30ab8ca5' title='Show/Hide data repr'><svg class='icon xr-icon-database'><use xlink:href='#icon-database'></use></svg></label><div class='xr-var-attrs'><dl class='xr-attrs'></dl></div><div class='xr-var-data'><pre>array([[41151.],\n",
       "       [38941.],\n",
       "       [42963.],\n",
       "       ...,\n",
       "       [50741.],\n",
       "       [54645.],\n",
       "       [45911.]])</pre></div></li><li class='xr-var-item'><div class='xr-var-name'><span>loads_t_p</span></div><div class='xr-var-dims'>(snapshots, loads_t_p_i)</div><div class='xr-var-dtype'>float64</div><div class='xr-var-preview xr-preview'>4.115e+04 3.894e+04 ... 4.591e+04</div><input id='attrs-31bc2273-2453-47c1-92c3-3753b0149c30' class='xr-var-attrs-in' type='checkbox' disabled><label for='attrs-31bc2273-2453-47c1-92c3-3753b0149c30' title='Show/Hide attributes'><svg class='icon xr-icon-file-text2'><use xlink:href='#icon-file-text2'></use></svg></label><input id='data-36d63c75-376a-4cb3-9778-f25ce5585ffc' class='xr-var-data-in' type='checkbox'><label for='data-36d63c75-376a-4cb3-9778-f25ce5585ffc' title='Show/Hide data repr'><svg class='icon xr-icon-database'><use xlink:href='#icon-database'></use></svg></label><div class='xr-var-attrs'><dl class='xr-attrs'></dl></div><div class='xr-var-data'><pre>array([[41151.],\n",
       "       [38941.],\n",
       "       [42963.],\n",
       "       ...,\n",
       "       [50741.],\n",
       "       [54645.],\n",
       "       [45911.]])</pre></div></li><li class='xr-var-item'><div class='xr-var-name'><span>global_constraints_sense</span></div><div class='xr-var-dims'>(global_constraints_i)</div><div class='xr-var-dtype'>object</div><div class='xr-var-preview xr-preview'>&#x27;&lt;=&#x27;</div><input id='attrs-d3854ac9-1112-4cd8-8cd6-fffe0d61eec0' class='xr-var-attrs-in' type='checkbox' disabled><label for='attrs-d3854ac9-1112-4cd8-8cd6-fffe0d61eec0' title='Show/Hide attributes'><svg class='icon xr-icon-file-text2'><use xlink:href='#icon-file-text2'></use></svg></label><input id='data-040ed28f-b1bc-4f55-99e1-8f8a337e6863' class='xr-var-data-in' type='checkbox'><label for='data-040ed28f-b1bc-4f55-99e1-8f8a337e6863' title='Show/Hide data repr'><svg class='icon xr-icon-database'><use xlink:href='#icon-database'></use></svg></label><div class='xr-var-attrs'><dl class='xr-attrs'></dl></div><div class='xr-var-data'><pre>array([&#x27;&lt;=&#x27;], dtype=object)</pre></div></li><li class='xr-var-item'><div class='xr-var-name'><span>global_constraints_mu</span></div><div class='xr-var-dims'>(global_constraints_i)</div><div class='xr-var-dtype'>float64</div><div class='xr-var-preview xr-preview'>-4.414e+03</div><input id='attrs-ea5cd6ae-6b23-44ca-8175-85ee2d9340cf' class='xr-var-attrs-in' type='checkbox' disabled><label for='attrs-ea5cd6ae-6b23-44ca-8175-85ee2d9340cf' title='Show/Hide attributes'><svg class='icon xr-icon-file-text2'><use xlink:href='#icon-file-text2'></use></svg></label><input id='data-ced496e0-1792-4ffb-8c0b-0788f5940417' class='xr-var-data-in' type='checkbox'><label for='data-ced496e0-1792-4ffb-8c0b-0788f5940417' title='Show/Hide data repr'><svg class='icon xr-icon-database'><use xlink:href='#icon-database'></use></svg></label><div class='xr-var-attrs'><dl class='xr-attrs'></dl></div><div class='xr-var-data'><pre>array([-4413.98941964])</pre></div></li></ul></div></li><li class='xr-section-item'><input id='section-4f0947da-7955-481d-b8db-fa947864f180' class='xr-section-summary-in' type='checkbox'  ><label for='section-4f0947da-7955-481d-b8db-fa947864f180' class='xr-section-summary' >Indexes: <span>(18)</span></label><div class='xr-section-inline-details'></div><div class='xr-section-details'><ul class='xr-var-list'><li class='xr-var-item'><div class='xr-index-name'><div>snapshots</div></div><div class='xr-index-preview'>PandasIndex</div><div></div><input id='index-d23e2259-a9f0-42cc-af2f-c3f69b5e62c3' class='xr-index-data-in' type='checkbox'/><label for='index-d23e2259-a9f0-42cc-af2f-c3f69b5e62c3' title='Show/Hide index repr'><svg class='icon xr-icon-database'><use xlink:href='#icon-database'></use></svg></label><div class='xr-index-data'><pre>PandasIndex(RangeIndex(start=0, stop=2190, step=1, name=&#x27;snapshots&#x27;))</pre></div></li><li class='xr-var-item'><div class='xr-index-name'><div>investment_periods</div></div><div class='xr-index-preview'>PandasIndex</div><div></div><input id='index-6039fd6b-f9c4-40e0-92fc-4b40f0e74e95' class='xr-index-data-in' type='checkbox'/><label for='index-6039fd6b-f9c4-40e0-92fc-4b40f0e74e95' title='Show/Hide index repr'><svg class='icon xr-icon-database'><use xlink:href='#icon-database'></use></svg></label><div class='xr-index-data'><pre>PandasIndex(RangeIndex(start=0, stop=0, step=1, name=&#x27;investment_periods&#x27;))</pre></div></li><li class='xr-var-item'><div class='xr-index-name'><div>generators_i</div></div><div class='xr-index-preview'>PandasIndex</div><div></div><input id='index-30975a44-55cf-4c1a-ac70-a9c65bd85b98' class='xr-index-data-in' type='checkbox'/><label for='index-30975a44-55cf-4c1a-ac70-a9c65bd85b98' title='Show/Hide index repr'><svg class='icon xr-icon-database'><use xlink:href='#icon-database'></use></svg></label><div class='xr-index-data'><pre>PandasIndex(Index([&#x27;OCGT&#x27;, &#x27;onwind&#x27;, &#x27;offwind&#x27;, &#x27;solar&#x27;], dtype=&#x27;object&#x27;, name=&#x27;generators_i&#x27;))</pre></div></li><li class='xr-var-item'><div class='xr-index-name'><div>generators_t_p_max_pu_i</div></div><div class='xr-index-preview'>PandasIndex</div><div></div><input id='index-5e3af031-2344-4292-adb0-824891cae064' class='xr-index-data-in' type='checkbox'/><label for='index-5e3af031-2344-4292-adb0-824891cae064' title='Show/Hide index repr'><svg class='icon xr-icon-database'><use xlink:href='#icon-database'></use></svg></label><div class='xr-index-data'><pre>PandasIndex(Index([&#x27;offwind&#x27;, &#x27;onwind&#x27;, &#x27;solar&#x27;], dtype=&#x27;object&#x27;, name=&#x27;generators_t_p_max_pu_i&#x27;))</pre></div></li><li class='xr-var-item'><div class='xr-index-name'><div>generators_t_p_i</div></div><div class='xr-index-preview'>PandasIndex</div><div></div><input id='index-19dc9e52-8380-409d-bd74-5ee96488a772' class='xr-index-data-in' type='checkbox'/><label for='index-19dc9e52-8380-409d-bd74-5ee96488a772' title='Show/Hide index repr'><svg class='icon xr-icon-database'><use xlink:href='#icon-database'></use></svg></label><div class='xr-index-data'><pre>PandasIndex(Index([&#x27;onwind&#x27;, &#x27;offwind&#x27;, &#x27;solar&#x27;], dtype=&#x27;object&#x27;, name=&#x27;generators_t_p_i&#x27;))</pre></div></li><li class='xr-var-item'><div class='xr-index-name'><div>carriers_i</div></div><div class='xr-index-preview'>PandasIndex</div><div></div><input id='index-9d06401d-ac90-4fb0-87c0-3a89753ab779' class='xr-index-data-in' type='checkbox'/><label for='index-9d06401d-ac90-4fb0-87c0-3a89753ab779' title='Show/Hide index repr'><svg class='icon xr-icon-database'><use xlink:href='#icon-database'></use></svg></label><div class='xr-index-data'><pre>PandasIndex(Index([&#x27;onwind&#x27;, &#x27;offwind&#x27;, &#x27;solar&#x27;, &#x27;OCGT&#x27;, &#x27;hydrogen storage underground&#x27;,\n",
       "       &#x27;battery storage&#x27;],\n",
       "      dtype=&#x27;object&#x27;, name=&#x27;carriers_i&#x27;))</pre></div></li><li class='xr-var-item'><div class='xr-index-name'><div>storage_units_i</div></div><div class='xr-index-preview'>PandasIndex</div><div></div><input id='index-2988cec5-5eeb-4ad7-9bb6-da45904000e1' class='xr-index-data-in' type='checkbox'/><label for='index-2988cec5-5eeb-4ad7-9bb6-da45904000e1' title='Show/Hide index repr'><svg class='icon xr-icon-database'><use xlink:href='#icon-database'></use></svg></label><div class='xr-index-data'><pre>PandasIndex(Index([&#x27;battery storage&#x27;, &#x27;hydrogen storage underground&#x27;], dtype=&#x27;object&#x27;, name=&#x27;storage_units_i&#x27;))</pre></div></li><li class='xr-var-item'><div class='xr-index-name'><div>storage_units_t_p_i</div></div><div class='xr-index-preview'>PandasIndex</div><div></div><input id='index-3a434f92-668d-40e9-acfd-5e328472ab5c' class='xr-index-data-in' type='checkbox'/><label for='index-3a434f92-668d-40e9-acfd-5e328472ab5c' title='Show/Hide index repr'><svg class='icon xr-icon-database'><use xlink:href='#icon-database'></use></svg></label><div class='xr-index-data'><pre>PandasIndex(Index([&#x27;battery storage&#x27;, &#x27;hydrogen storage underground&#x27;], dtype=&#x27;object&#x27;, name=&#x27;storage_units_t_p_i&#x27;))</pre></div></li><li class='xr-var-item'><div class='xr-index-name'><div>storage_units_t_p_dispatch_i</div></div><div class='xr-index-preview'>PandasIndex</div><div></div><input id='index-ec0d9839-b270-4ffb-9cfc-77565491d0c5' class='xr-index-data-in' type='checkbox'/><label for='index-ec0d9839-b270-4ffb-9cfc-77565491d0c5' title='Show/Hide index repr'><svg class='icon xr-icon-database'><use xlink:href='#icon-database'></use></svg></label><div class='xr-index-data'><pre>PandasIndex(Index([&#x27;battery storage&#x27;, &#x27;hydrogen storage underground&#x27;], dtype=&#x27;object&#x27;, name=&#x27;storage_units_t_p_dispatch_i&#x27;))</pre></div></li><li class='xr-var-item'><div class='xr-index-name'><div>storage_units_t_p_store_i</div></div><div class='xr-index-preview'>PandasIndex</div><div></div><input id='index-42b4fe19-4550-47eb-b308-a3fa3cb2a48c' class='xr-index-data-in' type='checkbox'/><label for='index-42b4fe19-4550-47eb-b308-a3fa3cb2a48c' title='Show/Hide index repr'><svg class='icon xr-icon-database'><use xlink:href='#icon-database'></use></svg></label><div class='xr-index-data'><pre>PandasIndex(Index([&#x27;battery storage&#x27;, &#x27;hydrogen storage underground&#x27;], dtype=&#x27;object&#x27;, name=&#x27;storage_units_t_p_store_i&#x27;))</pre></div></li><li class='xr-var-item'><div class='xr-index-name'><div>storage_units_t_state_of_charge_i</div></div><div class='xr-index-preview'>PandasIndex</div><div></div><input id='index-93c9275f-5b57-4f0e-9e9e-54d20560bad5' class='xr-index-data-in' type='checkbox'/><label for='index-93c9275f-5b57-4f0e-9e9e-54d20560bad5' title='Show/Hide index repr'><svg class='icon xr-icon-database'><use xlink:href='#icon-database'></use></svg></label><div class='xr-index-data'><pre>PandasIndex(Index([&#x27;battery storage&#x27;, &#x27;hydrogen storage underground&#x27;], dtype=&#x27;object&#x27;, name=&#x27;storage_units_t_state_of_charge_i&#x27;))</pre></div></li><li class='xr-var-item'><div class='xr-index-name'><div>buses_i</div></div><div class='xr-index-preview'>PandasIndex</div><div></div><input id='index-d6082489-2a71-421a-b58b-e751f2fc31d4' class='xr-index-data-in' type='checkbox'/><label for='index-d6082489-2a71-421a-b58b-e751f2fc31d4' title='Show/Hide index repr'><svg class='icon xr-icon-database'><use xlink:href='#icon-database'></use></svg></label><div class='xr-index-data'><pre>PandasIndex(Index([&#x27;electricity&#x27;], dtype=&#x27;object&#x27;, name=&#x27;buses_i&#x27;))</pre></div></li><li class='xr-var-item'><div class='xr-index-name'><div>buses_t_p_i</div></div><div class='xr-index-preview'>PandasIndex</div><div></div><input id='index-f1ce4e28-c86f-4ded-9358-ed3795269ade' class='xr-index-data-in' type='checkbox'/><label for='index-f1ce4e28-c86f-4ded-9358-ed3795269ade' title='Show/Hide index repr'><svg class='icon xr-icon-database'><use xlink:href='#icon-database'></use></svg></label><div class='xr-index-data'><pre>PandasIndex(Index([&#x27;electricity&#x27;], dtype=&#x27;object&#x27;, name=&#x27;buses_t_p_i&#x27;))</pre></div></li><li class='xr-var-item'><div class='xr-index-name'><div>buses_t_marginal_price_i</div></div><div class='xr-index-preview'>PandasIndex</div><div></div><input id='index-933cfc24-0c9a-4583-8989-619c3eb88fa2' class='xr-index-data-in' type='checkbox'/><label for='index-933cfc24-0c9a-4583-8989-619c3eb88fa2' title='Show/Hide index repr'><svg class='icon xr-icon-database'><use xlink:href='#icon-database'></use></svg></label><div class='xr-index-data'><pre>PandasIndex(Index([&#x27;electricity&#x27;], dtype=&#x27;object&#x27;, name=&#x27;buses_t_marginal_price_i&#x27;))</pre></div></li><li class='xr-var-item'><div class='xr-index-name'><div>loads_i</div></div><div class='xr-index-preview'>PandasIndex</div><div></div><input id='index-45101d04-1317-466f-9cc1-026589526e2d' class='xr-index-data-in' type='checkbox'/><label for='index-45101d04-1317-466f-9cc1-026589526e2d' title='Show/Hide index repr'><svg class='icon xr-icon-database'><use xlink:href='#icon-database'></use></svg></label><div class='xr-index-data'><pre>PandasIndex(Index([&#x27;demand&#x27;], dtype=&#x27;object&#x27;, name=&#x27;loads_i&#x27;))</pre></div></li><li class='xr-var-item'><div class='xr-index-name'><div>loads_t_p_set_i</div></div><div class='xr-index-preview'>PandasIndex</div><div></div><input id='index-6ccea068-4258-4436-89ee-d94fb7ae518f' class='xr-index-data-in' type='checkbox'/><label for='index-6ccea068-4258-4436-89ee-d94fb7ae518f' title='Show/Hide index repr'><svg class='icon xr-icon-database'><use xlink:href='#icon-database'></use></svg></label><div class='xr-index-data'><pre>PandasIndex(Index([&#x27;demand&#x27;], dtype=&#x27;object&#x27;, name=&#x27;loads_t_p_set_i&#x27;))</pre></div></li><li class='xr-var-item'><div class='xr-index-name'><div>loads_t_p_i</div></div><div class='xr-index-preview'>PandasIndex</div><div></div><input id='index-fa2929a6-32ee-4315-ba1a-7f745439935f' class='xr-index-data-in' type='checkbox'/><label for='index-fa2929a6-32ee-4315-ba1a-7f745439935f' title='Show/Hide index repr'><svg class='icon xr-icon-database'><use xlink:href='#icon-database'></use></svg></label><div class='xr-index-data'><pre>PandasIndex(Index([&#x27;demand&#x27;], dtype=&#x27;object&#x27;, name=&#x27;loads_t_p_i&#x27;))</pre></div></li><li class='xr-var-item'><div class='xr-index-name'><div>global_constraints_i</div></div><div class='xr-index-preview'>PandasIndex</div><div></div><input id='index-9819fa07-04e5-4909-915c-2091e9d147d4' class='xr-index-data-in' type='checkbox'/><label for='index-9819fa07-04e5-4909-915c-2091e9d147d4' title='Show/Hide index repr'><svg class='icon xr-icon-database'><use xlink:href='#icon-database'></use></svg></label><div class='xr-index-data'><pre>PandasIndex(Index([&#x27;CO2Limit&#x27;], dtype=&#x27;object&#x27;, name=&#x27;global_constraints_i&#x27;))</pre></div></li></ul></div></li><li class='xr-section-item'><input id='section-8b27d08c-57f8-4b80-956d-73320440572e' class='xr-section-summary-in' type='checkbox'  checked><label for='section-8b27d08c-57f8-4b80-956d-73320440572e' class='xr-section-summary' >Attributes: <span>(9)</span></label><div class='xr-section-inline-details'></div><div class='xr-section-details'><dl class='xr-attrs'><dt><span>network__linearized_uc :</span></dt><dd>0</dd><dt><span>network__multi_invest :</span></dt><dd>0</dd><dt><span>network_name :</span></dt><dd></dd><dt><span>network_objective :</span></dt><dd>79406619874.64291</dd><dt><span>network_objective_constant :</span></dt><dd>0.0</dd><dt><span>network_pypsa_version :</span></dt><dd>0.31.1</dd><dt><span>network_srid :</span></dt><dd>4326</dd><dt><span>crs :</span></dt><dd>{&quot;_crs&quot;: &quot;GEOGCRS[\\&quot;WGS 84\\&quot;,ENSEMBLE[\\&quot;World Geodetic System 1984 ensemble\\&quot;,MEMBER[\\&quot;World Geodetic System 1984 (Transit)\\&quot;],MEMBER[\\&quot;World Geodetic System 1984 (G730)\\&quot;],MEMBER[\\&quot;World Geodetic System 1984 (G873)\\&quot;],MEMBER[\\&quot;World Geodetic System 1984 (G1150)\\&quot;],MEMBER[\\&quot;World Geodetic System 1984 (G1674)\\&quot;],MEMBER[\\&quot;World Geodetic System 1984 (G1762)\\&quot;],MEMBER[\\&quot;World Geodetic System 1984 (G2139)\\&quot;],MEMBER[\\&quot;World Geodetic System 1984 (G2296)\\&quot;],ELLIPSOID[\\&quot;WGS 84\\&quot;,6378137,298.257223563,LENGTHUNIT[\\&quot;metre\\&quot;,1]],ENSEMBLEACCURACY[2.0]],PRIMEM[\\&quot;Greenwich\\&quot;,0,ANGLEUNIT[\\&quot;degree\\&quot;,0.0174532925199433]],CS[ellipsoidal,2],AXIS[\\&quot;geodetic latitude (Lat)\\&quot;,north,ORDER[1],ANGLEUNIT[\\&quot;degree\\&quot;,0.0174532925199433]],AXIS[\\&quot;geodetic longitude (Lon)\\&quot;,east,ORDER[2],ANGLEUNIT[\\&quot;degree\\&quot;,0.0174532925199433]],USAGE[SCOPE[\\&quot;Horizontal component of 3D system.\\&quot;],AREA[\\&quot;World.\\&quot;],BBOX[-90,-180,90,180]],ID[\\&quot;EPSG\\&quot;,4326]]&quot;}</dd><dt><span>meta :</span></dt><dd>{}</dd></dl></div></li></ul></div></div>"
      ],
      "text/plain": [
       "<xarray.Dataset> Size: 404kB\n",
       "Dimensions:                               (snapshots: 2190,\n",
       "                                           investment_periods: 0,\n",
       "                                           generators_i: 4,\n",
       "                                           generators_t_p_max_pu_i: 3,\n",
       "                                           generators_t_p_i: 3, carriers_i: 6,\n",
       "                                           storage_units_i: 2,\n",
       "                                           ...\n",
       "                                           storage_units_t_state_of_charge_i: 2,\n",
       "                                           buses_i: 1, buses_t_p_i: 1,\n",
       "                                           buses_t_marginal_price_i: 1,\n",
       "                                           loads_i: 1, loads_t_p_set_i: 1,\n",
       "                                           loads_t_p_i: 1,\n",
       "                                           global_constraints_i: 1)\n",
       "Coordinates: (12/18)\n",
       "  * snapshots                             (snapshots) int64 18kB 0 1 ... 2189\n",
       "  * investment_periods                    (investment_periods) int64 0B \n",
       "  * generators_i                          (generators_i) object 32B 'OCGT' .....\n",
       "  * generators_t_p_max_pu_i               (generators_t_p_max_pu_i) object 24B ...\n",
       "  * generators_t_p_i                      (generators_t_p_i) object 24B 'onwi...\n",
       "  * carriers_i                            (carriers_i) object 48B 'onwind' .....\n",
       "    ...                                    ...\n",
       "  * buses_t_p_i                           (buses_t_p_i) object 8B 'electricity'\n",
       "  * buses_t_marginal_price_i              (buses_t_marginal_price_i) object 8B ...\n",
       "  * loads_i                               (loads_i) object 8B 'demand'\n",
       "  * loads_t_p_set_i                       (loads_t_p_set_i) object 8B 'demand'\n",
       "  * loads_t_p_i                           (loads_t_p_i) object 8B 'demand'\n",
       "  * global_constraints_i                  (global_constraints_i) object 8B 'C...\n",
       "Data variables: (12/43)\n",
       "    snapshots_snapshot                    (snapshots) datetime64[ns] 18kB 201...\n",
       "    snapshots_objective                   (snapshots) float64 18kB 4.0 ... 4.0\n",
       "    snapshots_stores                      (snapshots) float64 18kB 4.0 ... 4.0\n",
       "    snapshots_generators                  (snapshots) float64 18kB 4.0 ... 4.0\n",
       "    investment_periods_objective          (investment_periods) object 0B \n",
       "    investment_periods_years              (investment_periods) object 0B \n",
       "    ...                                    ...\n",
       "    buses_t_marginal_price                (snapshots, buses_t_marginal_price_i) float64 18kB ...\n",
       "    loads_bus                             (loads_i) object 8B 'electricity'\n",
       "    loads_t_p_set                         (snapshots, loads_t_p_set_i) float64 18kB ...\n",
       "    loads_t_p                             (snapshots, loads_t_p_i) float64 18kB ...\n",
       "    global_constraints_sense              (global_constraints_i) object 8B '<='\n",
       "    global_constraints_mu                 (global_constraints_i) float64 8B -...\n",
       "Attributes:\n",
       "    network__linearized_uc:      0\n",
       "    network__multi_invest:       0\n",
       "    network_name:                \n",
       "    network_objective:           79406619874.64291\n",
       "    network_objective_constant:  0.0\n",
       "    network_pypsa_version:       0.31.1\n",
       "    network_srid:                4326\n",
       "    crs:                         {\"_crs\": \"GEOGCRS[\\\"WGS 84\\\",ENSEMBLE[\\\"Worl...\n",
       "    meta:                        {}"
      ]
     },
     "execution_count": 53,
     "metadata": {},
     "output_type": "execute_result"
    }
   ],
   "source": [
    "n.export_to_netcdf(\"network-new.nc\")"
   ]
  },
  {
   "cell_type": "markdown",
   "metadata": {},
   "source": [
    ":::{warning}\n",
    "Always consider, that the load data is given in units of power (MW) and if your resolution is not hourly, you need to multiply by the snapshot weighting to get the energy consumed!\n",
    ":::"
   ]
  },
  {
   "cell_type": "markdown",
   "metadata": {
    "tags": []
   },
   "source": [
    "## Sensitivity Analysis"
   ]
  },
  {
   "cell_type": "markdown",
   "metadata": {},
   "source": [
    "Sensitivity analyses constitute a core activity of energy system modelling. Below, you can find sensitivity analyses regarding the\n",
    "\n",
    "1. variation in allowed CO$_2$ emissions\n",
    "2. variation in solar overnight costs\n",
    "3. variation in offshore wind potentials"
   ]
  },
  {
   "cell_type": "code",
   "execution_count": 54,
   "metadata": {
    "ExecuteTime": {
     "end_time": "2024-05-24T07:38:23.368274Z",
     "start_time": "2024-05-24T07:37:45.994157Z"
    },
    "tags": [
     "hide-output"
    ]
   },
   "outputs": [
    {
     "name": "stderr",
     "output_type": "stream",
     "text": [
      "WARNING:pypsa.consistency:The following buses have carriers which are not defined:\n",
      "Index(['electricity'], dtype='object', name='Bus')\n",
      "WARNING:pypsa.consistency:The following buses have carriers which are not defined:\n",
      "Index(['electricity'], dtype='object', name='Bus')\n",
      "C:\\Users\\dell\\AppData\\Roaming\\Python\\Python312\\site-packages\\linopy\\common.py:147: UserWarning: coords for dimension(s) ['Generator'] is not aligned with the pandas object. Previously, the indexes of the pandas were ignored and overwritten in these cases. Now, the pandas object's coordinates are taken considered for alignment.\n",
      "  warn(\n",
      "INFO:linopy.model: Solve problem using Highs solver\n",
      "INFO:linopy.io:Writing objective.\n",
      "Writing constraints.: 100%|\u001b[38;2;128;191;255m██████████\u001b[0m| 17/17 [00:00<00:00, 42.61it/s]\n",
      "Writing continuous variables.: 100%|\u001b[38;2;128;191;255m██████████\u001b[0m| 6/6 [00:00<00:00, 111.36it/s]\n",
      "INFO:linopy.io: Writing time: 0.49s\n",
      "INFO:linopy.solvers:Log file at C:\\Users\\dell\\AppData\\Local\\Temp\\highs.log\n",
      "INFO:linopy.constants: Optimization successful: \n",
      "Status: ok\n",
      "Termination condition: optimal\n",
      "Solution: 21906 primals, 50381 duals\n",
      "Objective: 3.16e+10\n",
      "Solver model: available\n",
      "Solver message: optimal\n",
      "\n",
      "INFO:pypsa.optimization.optimize:The shadow-prices of the constraints Generator-ext-p-lower, Generator-ext-p-upper, StorageUnit-ext-p_dispatch-lower, StorageUnit-ext-p_dispatch-upper, StorageUnit-ext-p_store-lower, StorageUnit-ext-p_store-upper, StorageUnit-ext-state_of_charge-lower, StorageUnit-ext-state_of_charge-upper, StorageUnit-energy_balance were not assigned to the network.\n",
      "WARNING:pypsa.consistency:The following buses have carriers which are not defined:\n",
      "Index(['electricity'], dtype='object', name='Bus')\n",
      "WARNING:pypsa.consistency:The following buses have carriers which are not defined:\n",
      "Index(['electricity'], dtype='object', name='Bus')\n",
      "C:\\Users\\dell\\AppData\\Roaming\\Python\\Python312\\site-packages\\linopy\\common.py:147: UserWarning: coords for dimension(s) ['Generator'] is not aligned with the pandas object. Previously, the indexes of the pandas were ignored and overwritten in these cases. Now, the pandas object's coordinates are taken considered for alignment.\n",
      "  warn(\n",
      "INFO:linopy.model: Solve problem using Highs solver\n",
      "INFO:linopy.io:Writing objective.\n",
      "Writing constraints.: 100%|\u001b[38;2;128;191;255m██████████\u001b[0m| 17/17 [00:00<00:00, 47.88it/s]\n",
      "Writing continuous variables.: 100%|\u001b[38;2;128;191;255m██████████\u001b[0m| 6/6 [00:00<00:00, 93.13it/s]\n",
      "INFO:linopy.io: Writing time: 0.46s\n",
      "INFO:linopy.solvers:Log file at C:\\Users\\dell\\AppData\\Local\\Temp\\highs.log\n",
      "INFO:linopy.constants: Optimization successful: \n",
      "Status: ok\n",
      "Termination condition: optimal\n",
      "Solution: 21906 primals, 50381 duals\n",
      "Objective: 3.18e+10\n",
      "Solver model: available\n",
      "Solver message: optimal\n",
      "\n",
      "INFO:pypsa.optimization.optimize:The shadow-prices of the constraints Generator-ext-p-lower, Generator-ext-p-upper, StorageUnit-ext-p_dispatch-lower, StorageUnit-ext-p_dispatch-upper, StorageUnit-ext-p_store-lower, StorageUnit-ext-p_store-upper, StorageUnit-ext-state_of_charge-lower, StorageUnit-ext-state_of_charge-upper, StorageUnit-energy_balance were not assigned to the network.\n",
      "WARNING:pypsa.consistency:The following buses have carriers which are not defined:\n",
      "Index(['electricity'], dtype='object', name='Bus')\n",
      "WARNING:pypsa.consistency:The following buses have carriers which are not defined:\n",
      "Index(['electricity'], dtype='object', name='Bus')\n",
      "C:\\Users\\dell\\AppData\\Roaming\\Python\\Python312\\site-packages\\linopy\\common.py:147: UserWarning: coords for dimension(s) ['Generator'] is not aligned with the pandas object. Previously, the indexes of the pandas were ignored and overwritten in these cases. Now, the pandas object's coordinates are taken considered for alignment.\n",
      "  warn(\n",
      "INFO:linopy.model: Solve problem using Highs solver\n",
      "INFO:linopy.io:Writing objective.\n",
      "Writing constraints.: 100%|\u001b[38;2;128;191;255m██████████\u001b[0m| 17/17 [00:00<00:00, 48.15it/s]\n",
      "Writing continuous variables.: 100%|\u001b[38;2;128;191;255m██████████\u001b[0m| 6/6 [00:00<00:00, 98.62it/s]\n",
      "INFO:linopy.io: Writing time: 0.45s\n",
      "INFO:linopy.solvers:Log file at C:\\Users\\dell\\AppData\\Local\\Temp\\highs.log\n",
      "INFO:linopy.constants: Optimization successful: \n",
      "Status: ok\n",
      "Termination condition: optimal\n",
      "Solution: 21906 primals, 50381 duals\n",
      "Objective: 3.58e+10\n",
      "Solver model: available\n",
      "Solver message: optimal\n",
      "\n",
      "INFO:pypsa.optimization.optimize:The shadow-prices of the constraints Generator-ext-p-lower, Generator-ext-p-upper, StorageUnit-ext-p_dispatch-lower, StorageUnit-ext-p_dispatch-upper, StorageUnit-ext-p_store-lower, StorageUnit-ext-p_store-upper, StorageUnit-ext-state_of_charge-lower, StorageUnit-ext-state_of_charge-upper, StorageUnit-energy_balance were not assigned to the network.\n",
      "WARNING:pypsa.consistency:The following buses have carriers which are not defined:\n",
      "Index(['electricity'], dtype='object', name='Bus')\n",
      "WARNING:pypsa.consistency:The following buses have carriers which are not defined:\n",
      "Index(['electricity'], dtype='object', name='Bus')\n",
      "C:\\Users\\dell\\AppData\\Roaming\\Python\\Python312\\site-packages\\linopy\\common.py:147: UserWarning: coords for dimension(s) ['Generator'] is not aligned with the pandas object. Previously, the indexes of the pandas were ignored and overwritten in these cases. Now, the pandas object's coordinates are taken considered for alignment.\n",
      "  warn(\n",
      "INFO:linopy.model: Solve problem using Highs solver\n",
      "INFO:linopy.io:Writing objective.\n",
      "Writing constraints.: 100%|\u001b[38;2;128;191;255m██████████\u001b[0m| 17/17 [00:00<00:00, 45.94it/s]\n",
      "Writing continuous variables.: 100%|\u001b[38;2;128;191;255m██████████\u001b[0m| 6/6 [00:00<00:00, 87.19it/s]\n",
      "INFO:linopy.io: Writing time: 0.48s\n",
      "INFO:linopy.solvers:Log file at C:\\Users\\dell\\AppData\\Local\\Temp\\highs.log\n",
      "INFO:linopy.constants: Optimization successful: \n",
      "Status: ok\n",
      "Termination condition: optimal\n",
      "Solution: 21906 primals, 50381 duals\n",
      "Objective: 4.15e+10\n",
      "Solver model: available\n",
      "Solver message: optimal\n",
      "\n",
      "INFO:pypsa.optimization.optimize:The shadow-prices of the constraints Generator-ext-p-lower, Generator-ext-p-upper, StorageUnit-ext-p_dispatch-lower, StorageUnit-ext-p_dispatch-upper, StorageUnit-ext-p_store-lower, StorageUnit-ext-p_store-upper, StorageUnit-ext-state_of_charge-lower, StorageUnit-ext-state_of_charge-upper, StorageUnit-energy_balance were not assigned to the network.\n",
      "WARNING:pypsa.consistency:The following buses have carriers which are not defined:\n",
      "Index(['electricity'], dtype='object', name='Bus')\n",
      "WARNING:pypsa.consistency:The following buses have carriers which are not defined:\n",
      "Index(['electricity'], dtype='object', name='Bus')\n",
      "C:\\Users\\dell\\AppData\\Roaming\\Python\\Python312\\site-packages\\linopy\\common.py:147: UserWarning: coords for dimension(s) ['Generator'] is not aligned with the pandas object. Previously, the indexes of the pandas were ignored and overwritten in these cases. Now, the pandas object's coordinates are taken considered for alignment.\n",
      "  warn(\n",
      "INFO:linopy.model: Solve problem using Highs solver\n",
      "INFO:linopy.io:Writing objective.\n",
      "Writing constraints.: 100%|\u001b[38;2;128;191;255m██████████\u001b[0m| 17/17 [00:00<00:00, 44.86it/s]\n",
      "Writing continuous variables.: 100%|\u001b[38;2;128;191;255m██████████\u001b[0m| 6/6 [00:00<00:00, 101.97it/s]\n",
      "INFO:linopy.io: Writing time: 0.47s\n",
      "INFO:linopy.solvers:Log file at C:\\Users\\dell\\AppData\\Local\\Temp\\highs.log\n",
      "INFO:linopy.constants: Optimization successful: \n",
      "Status: ok\n",
      "Termination condition: optimal\n",
      "Solution: 21906 primals, 50381 duals\n",
      "Objective: 7.94e+10\n",
      "Solver model: available\n",
      "Solver message: optimal\n",
      "\n",
      "INFO:pypsa.optimization.optimize:The shadow-prices of the constraints Generator-ext-p-lower, Generator-ext-p-upper, StorageUnit-ext-p_dispatch-lower, StorageUnit-ext-p_dispatch-upper, StorageUnit-ext-p_store-lower, StorageUnit-ext-p_store-upper, StorageUnit-ext-state_of_charge-lower, StorageUnit-ext-state_of_charge-upper, StorageUnit-energy_balance were not assigned to the network.\n"
     ]
    }
   ],
   "source": [
    "sensitivity = {}\n",
    "for co2 in [150, 100, 50, 25, 0]:\n",
    "    n.global_constraints.loc[\"CO2Limit\", \"constant\"] = co2 * 1e6\n",
    "    n.optimize(solver_name=\"highs\")\n",
    "    sensitivity[co2] = system_cost(n)"
   ]
  },
  {
   "cell_type": "code",
   "execution_count": 55,
   "metadata": {
    "ExecuteTime": {
     "end_time": "2024-05-24T07:38:23.529678Z",
     "start_time": "2024-05-24T07:38:23.369310Z"
    }
   },
   "outputs": [
    {
     "data": {
      "text/plain": [
       "<matplotlib.legend.Legend at 0x16f70664fb0>"
      ]
     },
     "execution_count": 55,
     "metadata": {},
     "output_type": "execute_result"
    },
    {
     "data": {
      "image/png": "[encoded data removed]",
      "text/plain": [
       "<Figure size 400x400 with 1 Axes>"
      ]
     },
     "metadata": {},
     "output_type": "display_data"
    }
   ],
   "source": [
    "df = pd.DataFrame(sensitivity).T.div(1e3)  # billion Euro/a\n",
    "df.plot.area(\n",
    "    stacked=True,\n",
    "    linewidth=0,\n",
    "    color=df.columns.map(n.carriers.color),\n",
    "    figsize=(4, 4),\n",
    "    xlim=(0, 150),\n",
    "    xlabel=r\"CO$_2$ emissions [Mt/a]\",\n",
    "    ylabel=\"System cost [bn€/a]\",\n",
    "    ylim=(0, 100),\n",
    ")\n",
    "plt.legend(frameon=False, loc=(1.05, 0))"
   ]
  },
  {
   "cell_type": "code",
   "execution_count": null,
   "metadata": {
    "ExecuteTime": {
     "end_time": "2024-05-24T07:38:23.533051Z",
     "start_time": "2024-05-24T07:38:23.530687Z"
    }
   },
   "outputs": [],
   "source": []
  }
 ],
 "metadata": {
  "kernelspec": {
   "display_name": "pypsa-china",
   "language": "python",
   "name": "python3"
  },
  "language_info": {
   "codemirror_mode": {
    "name": "ipython",
    "version": 3
   },
   "file_extension": ".py",
   "mimetype": "text/x-python",
   "name": "python",
   "nbconvert_exporter": "python",
   "pygments_lexer": "ipython3",
   "version": "3.12.7"
  }
 },
 "nbformat": 4,
 "nbformat_minor": 4
}
