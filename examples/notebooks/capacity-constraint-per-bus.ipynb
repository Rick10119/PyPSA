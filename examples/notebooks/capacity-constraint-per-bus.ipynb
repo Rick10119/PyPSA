{
 "cells": [
  {
   "cell_type": "markdown",
   "metadata": {},
   "source": [
    "# Constraining the total capacity per bus and carrier\n",
    "\n",
    "In this small example, we limit the nominal capacity of generators of the same production carrier at the same bus. \n",
    "\n",
    "Therefore, we introduce a column `nom_min_{carrier}` and `nom_max_{carrier}` in the `buses` dataframe. These are then used as lower and upper bounds of generators of the same carrier at the same bus. \n",
    "\n",
    "\n",
    "We start with importing a small example network."
   ]
  },
  {
   "cell_type": "code",
   "execution_count": 1,
   "metadata": {},
   "outputs": [],
   "source": [
    "import pandas as pd\n",
    "\n",
    "import pypsa"
   ]
  },
  {
   "cell_type": "code",
   "execution_count": 2,
   "metadata": {},
   "outputs": [
    {
     "name": "stderr",
     "output_type": "stream",
     "text": [
      "WARNING:pypsa.io:Importing network from PyPSA version v0.17.1 while current version is v0.31.1. Read the release notes at https://pypsa.readthedocs.io/en/latest/release_notes.html to prepare your network for import.\n",
      "INFO:pypsa.io:Imported network ac-dc-meshed.nc has buses, carriers, generators, global_constraints, lines, links, loads\n"
     ]
    }
   ],
   "source": [
    "n = pypsa.examples.ac_dc_meshed(from_master=True)\n",
    "n.links_t.p_set = pd.DataFrame(\n",
    "    index=n.snapshots\n",
    ")  # remove forced fixed values in optimization"
   ]
  },
  {
   "cell_type": "markdown",
   "metadata": {},
   "source": [
    "Now add a second wind generator at bus 'Frankfurt' and limit the combined capacity. "
   ]
  },
  {
   "cell_type": "code",
   "execution_count": 3,
   "metadata": {},
   "outputs": [],
   "source": [
    "n.add(\n",
    "    \"Generator\",\n",
    "    \"Frankfurt Wind 2\",\n",
    "    bus=\"Frankfurt\",\n",
    "    capital_cost=120,\n",
    "    carrier=\"wind\",\n",
    "    p_nom_extendable=True,\n",
    ")\n",
    "\n",
    "n.buses.loc[[\"Frankfurt\", \"Manchester\"], \"nom_min_wind\"] = 2000\n",
    "n.buses.loc[[\"Frankfurt\"], \"nom_max_wind\"] = 2200"
   ]
  },
  {
   "cell_type": "markdown",
   "metadata": {},
   "source": [
    "We are running the lopf and check whether the constraint is fulfilled. "
   ]
  },
  {
   "cell_type": "code",
   "execution_count": 4,
   "metadata": {},
   "outputs": [
    {
     "name": "stderr",
     "output_type": "stream",
     "text": [
      "WARNING:pypsa.consistency:The following links have carriers which are not defined:\n",
      "Index(['Norwich Converter', 'Norway Converter', 'Bremen Converter', 'DC link'], dtype='object', name='Link')\n",
      "WARNING:pypsa.consistency:The following lines have carriers which are not defined:\n",
      "Index(['0', '1', '2', '3', '4', '5', '6'], dtype='object', name='Line')\n",
      "WARNING:pypsa.consistency:The following lines have zero x, which could break the linear load flow:\n",
      "Index(['2', '3', '4'], dtype='object', name='Line')\n",
      "WARNING:pypsa.consistency:The following lines have zero r, which could break the linear load flow:\n",
      "Index(['0', '1', '5', '6'], dtype='object', name='Line')\n",
      "WARNING:pypsa.consistency:The following buses have carriers which are not defined:\n",
      "Index(['London', 'Norwich', 'Norwich DC', 'Manchester', 'Bremen', 'Bremen DC',\n",
      "       'Frankfurt', 'Norway', 'Norway DC'],\n",
      "      dtype='object', name='Bus')\n",
      "WARNING:pypsa.consistency:The following links have carriers which are not defined:\n",
      "Index(['Norwich Converter', 'Norway Converter', 'Bremen Converter', 'DC link'], dtype='object', name='Link')\n",
      "WARNING:pypsa.consistency:The following lines have carriers which are not defined:\n",
      "Index(['0', '1', '2', '3', '4', '5', '6'], dtype='object', name='Line')\n",
      "WARNING:pypsa.consistency:The following lines have zero x, which could break the linear load flow:\n",
      "Index(['2', '3', '4'], dtype='object', name='Line')\n",
      "WARNING:pypsa.consistency:The following lines have zero r, which could break the linear load flow:\n",
      "Index(['0', '1', '5', '6'], dtype='object', name='Line')\n",
      "WARNING:pypsa.consistency:The following buses have carriers which are not defined:\n",
      "Index(['London', 'Norwich', 'Norwich DC', 'Manchester', 'Bremen', 'Bremen DC',\n",
      "       'Frankfurt', 'Norway', 'Norway DC'],\n",
      "      dtype='object', name='Bus')\n",
      "C:\\Users\\dell\\AppData\\Roaming\\Python\\Python312\\site-packages\\linopy\\common.py:147: UserWarning: coords for dimension(s) ['Generator'] is not aligned with the pandas object. Previously, the indexes of the pandas were ignored and overwritten in these cases. Now, the pandas object's coordinates are taken considered for alignment.\n",
      "  warn(\n",
      "INFO:linopy.model: Solve problem using Highs solver\n",
      "INFO:linopy.io: Writing time: 0.06s\n",
      "INFO:linopy.solvers:Log file at C:\\Users\\dell\\AppData\\Local\\Temp\\highs.log\n",
      "INFO:linopy.constants: Optimization successful: \n",
      "Status: ok\n",
      "Termination condition: optimal\n",
      "Solution: 199 primals, 499 duals\n",
      "Objective: -1.38e+07\n",
      "Solver model: available\n",
      "Solver message: optimal\n",
      "\n",
      "INFO:pypsa.optimization.optimize:The shadow-prices of the constraints Generator-ext-p-lower, Generator-ext-p-upper, Line-ext-s-lower, Line-ext-s-upper, Link-ext-p-lower, Link-ext-p-upper, Kirchhoff-Voltage-Law were not assigned to the network.\n"
     ]
    },
    {
     "data": {
      "text/plain": [
       "('ok', 'optimal')"
      ]
     },
     "execution_count": 4,
     "metadata": {},
     "output_type": "execute_result"
    }
   ],
   "source": [
    "n.optimize()"
   ]
  },
  {
   "cell_type": "code",
   "execution_count": 5,
   "metadata": {},
   "outputs": [
    {
     "data": {
      "text/html": [
       "<div>\n",
       "<style scoped>\n",
       "    .dataframe tbody tr th:only-of-type {\n",
       "        vertical-align: middle;\n",
       "    }\n",
       "\n",
       "    .dataframe tbody tr th {\n",
       "        vertical-align: top;\n",
       "    }\n",
       "\n",
       "    .dataframe thead th {\n",
       "        text-align: right;\n",
       "    }\n",
       "</style>\n",
       "<table border=\"1\" class=\"dataframe\">\n",
       "  <thead>\n",
       "    <tr style=\"text-align: right;\">\n",
       "      <th></th>\n",
       "      <th>p_nom_opt</th>\n",
       "    </tr>\n",
       "    <tr>\n",
       "      <th>Generator</th>\n",
       "      <th></th>\n",
       "    </tr>\n",
       "  </thead>\n",
       "  <tbody>\n",
       "    <tr>\n",
       "      <th>Manchester Wind</th>\n",
       "      <td>2000.000000</td>\n",
       "    </tr>\n",
       "    <tr>\n",
       "      <th>Manchester Gas</th>\n",
       "      <td>-0.000000</td>\n",
       "    </tr>\n",
       "    <tr>\n",
       "      <th>Norway Wind</th>\n",
       "      <td>895.372552</td>\n",
       "    </tr>\n",
       "    <tr>\n",
       "      <th>Norway Gas</th>\n",
       "      <td>91.001539</td>\n",
       "    </tr>\n",
       "    <tr>\n",
       "      <th>Frankfurt Wind</th>\n",
       "      <td>100.000000</td>\n",
       "    </tr>\n",
       "    <tr>\n",
       "      <th>Frankfurt Gas</th>\n",
       "      <td>884.092697</td>\n",
       "    </tr>\n",
       "    <tr>\n",
       "      <th>Frankfurt Wind 2</th>\n",
       "      <td>2100.000000</td>\n",
       "    </tr>\n",
       "  </tbody>\n",
       "</table>\n",
       "</div>"
      ],
      "text/plain": [
       "                    p_nom_opt\n",
       "Generator                    \n",
       "Manchester Wind   2000.000000\n",
       "Manchester Gas      -0.000000\n",
       "Norway Wind        895.372552\n",
       "Norway Gas          91.001539\n",
       "Frankfurt Wind     100.000000\n",
       "Frankfurt Gas      884.092697\n",
       "Frankfurt Wind 2  2100.000000"
      ]
     },
     "execution_count": 5,
     "metadata": {},
     "output_type": "execute_result"
    }
   ],
   "source": [
    "n.generators[[\"p_nom_opt\"]]"
   ]
  },
  {
   "cell_type": "markdown",
   "metadata": {},
   "source": [
    "Looks good! The generators of carrier 'wind' at bus 'Frankfurt' are just the limit of 2200 MW.  "
   ]
  }
 ],
 "metadata": {
  "@webio": {
   "lastCommId": null,
   "lastKernelId": null
  },
  "kernelspec": {
   "display_name": "pypsa-china",
   "language": "python",
   "name": "python3"
  },
  "language_info": {
   "codemirror_mode": {
    "name": "ipython",
    "version": 3
   },
   "file_extension": ".py",
   "mimetype": "text/x-python",
   "name": "python",
   "nbconvert_exporter": "python",
   "pygments_lexer": "ipython3",
   "version": "3.12.7"
  }
 },
 "nbformat": 4,
 "nbformat_minor": 4
}
